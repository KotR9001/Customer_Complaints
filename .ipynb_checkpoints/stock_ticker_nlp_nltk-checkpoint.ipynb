{
 "cells": [
  {
   "cell_type": "code",
   "execution_count": 1,
   "metadata": {},
   "outputs": [],
   "source": [
    "#pip install nltk==3.5"
   ]
  },
  {
   "cell_type": "code",
   "execution_count": 2,
   "metadata": {},
   "outputs": [],
   "source": [
    "import pandas as pd\n",
    "import nltk"
   ]
  },
  {
   "cell_type": "code",
   "execution_count": 3,
   "metadata": {},
   "outputs": [
    {
     "name": "stderr",
     "output_type": "stream",
     "text": [
      "[nltk_data] Downloading package punkt to\n",
      "[nltk_data]     C:\\Users\\bjros\\AppData\\Roaming\\nltk_data...\n",
      "[nltk_data]   Package punkt is already up-to-date!\n"
     ]
    },
    {
     "data": {
      "text/plain": [
       "True"
      ]
     },
     "execution_count": 3,
     "metadata": {},
     "output_type": "execute_result"
    }
   ],
   "source": [
    "nltk.download('punkt')"
   ]
  },
  {
   "cell_type": "code",
   "execution_count": 4,
   "metadata": {},
   "outputs": [],
   "source": [
    "#Import the Tokenizers\n",
    "from nltk.tokenize import sent_tokenize, word_tokenize"
   ]
  },
  {
   "cell_type": "code",
   "execution_count": 5,
   "metadata": {},
   "outputs": [
    {
     "data": {
      "text/html": [
       "<div>\n",
       "<style scoped>\n",
       "    .dataframe tbody tr th:only-of-type {\n",
       "        vertical-align: middle;\n",
       "    }\n",
       "\n",
       "    .dataframe tbody tr th {\n",
       "        vertical-align: top;\n",
       "    }\n",
       "\n",
       "    .dataframe thead th {\n",
       "        text-align: right;\n",
       "    }\n",
       "</style>\n",
       "<table border=\"1\" class=\"dataframe\">\n",
       "  <thead>\n",
       "    <tr style=\"text-align: right;\">\n",
       "      <th></th>\n",
       "      <th>Unnamed: 0</th>\n",
       "      <th>description_x</th>\n",
       "      <th>description_y</th>\n",
       "      <th>ticker_x</th>\n",
       "      <th>ticker_y</th>\n",
       "      <th>same_security</th>\n",
       "    </tr>\n",
       "  </thead>\n",
       "  <tbody>\n",
       "    <tr>\n",
       "      <th>0</th>\n",
       "      <td>0</td>\n",
       "      <td>first trust dow jones internet</td>\n",
       "      <td>first trust dj internet idx</td>\n",
       "      <td>FDN</td>\n",
       "      <td>FDN</td>\n",
       "      <td>True</td>\n",
       "    </tr>\n",
       "    <tr>\n",
       "      <th>1</th>\n",
       "      <td>1</td>\n",
       "      <td>schwab intl large company index etf</td>\n",
       "      <td>schwab strategic tr fundamental intl large co ...</td>\n",
       "      <td>FNDF</td>\n",
       "      <td>FNDF</td>\n",
       "      <td>True</td>\n",
       "    </tr>\n",
       "    <tr>\n",
       "      <th>2</th>\n",
       "      <td>2</td>\n",
       "      <td>vanguard small cap index adm</td>\n",
       "      <td>vanguard small-cap index fund inst</td>\n",
       "      <td>VSMAX</td>\n",
       "      <td>VSCIX</td>\n",
       "      <td>False</td>\n",
       "    </tr>\n",
       "    <tr>\n",
       "      <th>3</th>\n",
       "      <td>3</td>\n",
       "      <td>duke energy corp new com new isin #us4 sedol #...</td>\n",
       "      <td>duke energy corp new com new isin #us26441c204...</td>\n",
       "      <td>DUK</td>\n",
       "      <td>DUK</td>\n",
       "      <td>True</td>\n",
       "    </tr>\n",
       "    <tr>\n",
       "      <th>4</th>\n",
       "      <td>4</td>\n",
       "      <td>visa inc class a</td>\n",
       "      <td>visa inc.</td>\n",
       "      <td>V</td>\n",
       "      <td>V</td>\n",
       "      <td>True</td>\n",
       "    </tr>\n",
       "    <tr>\n",
       "      <th>...</th>\n",
       "      <td>...</td>\n",
       "      <td>...</td>\n",
       "      <td>...</td>\n",
       "      <td>...</td>\n",
       "      <td>...</td>\n",
       "      <td>...</td>\n",
       "    </tr>\n",
       "    <tr>\n",
       "      <th>2137</th>\n",
       "      <td>2137</td>\n",
       "      <td>delta air lines inc com</td>\n",
       "      <td>delta air lines inc dela new</td>\n",
       "      <td>DAL</td>\n",
       "      <td>DAL</td>\n",
       "      <td>True</td>\n",
       "    </tr>\n",
       "    <tr>\n",
       "      <th>2138</th>\n",
       "      <td>2138</td>\n",
       "      <td>cognizant tech solutns a</td>\n",
       "      <td>cognizant tech solutions corp</td>\n",
       "      <td>CTSH</td>\n",
       "      <td>CTSH</td>\n",
       "      <td>True</td>\n",
       "    </tr>\n",
       "    <tr>\n",
       "      <th>2139</th>\n",
       "      <td>2139</td>\n",
       "      <td>pimco investment grade corporate bond fund - c...</td>\n",
       "      <td>fid conservative income bond fund</td>\n",
       "      <td>PBDAX</td>\n",
       "      <td>FCONX</td>\n",
       "      <td>False</td>\n",
       "    </tr>\n",
       "    <tr>\n",
       "      <th>2140</th>\n",
       "      <td>2140</td>\n",
       "      <td>eli lilly &amp; co com</td>\n",
       "      <td>lilly eli &amp;co com npv</td>\n",
       "      <td>LLY</td>\n",
       "      <td>LLY</td>\n",
       "      <td>True</td>\n",
       "    </tr>\n",
       "    <tr>\n",
       "      <th>2141</th>\n",
       "      <td>2141</td>\n",
       "      <td>dfa comm strategy i</td>\n",
       "      <td>dfa commodity strategy port</td>\n",
       "      <td>DCMSX</td>\n",
       "      <td>DCMSX</td>\n",
       "      <td>True</td>\n",
       "    </tr>\n",
       "  </tbody>\n",
       "</table>\n",
       "<p>2142 rows × 6 columns</p>\n",
       "</div>"
      ],
      "text/plain": [
       "      Unnamed: 0                                      description_x  \\\n",
       "0              0                     first trust dow jones internet   \n",
       "1              1                schwab intl large company index etf   \n",
       "2              2                       vanguard small cap index adm   \n",
       "3              3  duke energy corp new com new isin #us4 sedol #...   \n",
       "4              4                                   visa inc class a   \n",
       "...          ...                                                ...   \n",
       "2137        2137                            delta air lines inc com   \n",
       "2138        2138                           cognizant tech solutns a   \n",
       "2139        2139  pimco investment grade corporate bond fund - c...   \n",
       "2140        2140                                 eli lilly & co com   \n",
       "2141        2141                                dfa comm strategy i   \n",
       "\n",
       "                                          description_y ticker_x ticker_y  \\\n",
       "0                           first trust dj internet idx      FDN      FDN   \n",
       "1     schwab strategic tr fundamental intl large co ...     FNDF     FNDF   \n",
       "2                    vanguard small-cap index fund inst    VSMAX    VSCIX   \n",
       "3     duke energy corp new com new isin #us26441c204...      DUK      DUK   \n",
       "4                                             visa inc.        V        V   \n",
       "...                                                 ...      ...      ...   \n",
       "2137                       delta air lines inc dela new      DAL      DAL   \n",
       "2138                      cognizant tech solutions corp     CTSH     CTSH   \n",
       "2139                  fid conservative income bond fund    PBDAX    FCONX   \n",
       "2140                              lilly eli &co com npv      LLY      LLY   \n",
       "2141                        dfa commodity strategy port    DCMSX    DCMSX   \n",
       "\n",
       "      same_security  \n",
       "0              True  \n",
       "1              True  \n",
       "2             False  \n",
       "3              True  \n",
       "4              True  \n",
       "...             ...  \n",
       "2137           True  \n",
       "2138           True  \n",
       "2139          False  \n",
       "2140           True  \n",
       "2141           True  \n",
       "\n",
       "[2142 rows x 6 columns]"
      ]
     },
     "execution_count": 5,
     "metadata": {},
     "output_type": "execute_result"
    }
   ],
   "source": [
    "#Read the Data from the CSV Files\n",
    "train_df = pd.read_csv('train.csv')\n",
    "train_df"
   ]
  },
  {
   "cell_type": "code",
   "execution_count": 6,
   "metadata": {},
   "outputs": [
    {
     "data": {
      "text/html": [
       "<div>\n",
       "<style scoped>\n",
       "    .dataframe tbody tr th:only-of-type {\n",
       "        vertical-align: middle;\n",
       "    }\n",
       "\n",
       "    .dataframe tbody tr th {\n",
       "        vertical-align: top;\n",
       "    }\n",
       "\n",
       "    .dataframe thead th {\n",
       "        text-align: right;\n",
       "    }\n",
       "</style>\n",
       "<table border=\"1\" class=\"dataframe\">\n",
       "  <thead>\n",
       "    <tr style=\"text-align: right;\">\n",
       "      <th></th>\n",
       "      <th>test_id</th>\n",
       "      <th>description_x</th>\n",
       "      <th>description_y</th>\n",
       "      <th>same_security</th>\n",
       "    </tr>\n",
       "  </thead>\n",
       "  <tbody>\n",
       "    <tr>\n",
       "      <th>0</th>\n",
       "      <td>0</td>\n",
       "      <td>semtech corp</td>\n",
       "      <td>semtech corporation</td>\n",
       "      <td>NaN</td>\n",
       "    </tr>\n",
       "    <tr>\n",
       "      <th>1</th>\n",
       "      <td>1</td>\n",
       "      <td>vanguard mid cap index</td>\n",
       "      <td>vanguard midcap index - a</td>\n",
       "      <td>NaN</td>\n",
       "    </tr>\n",
       "    <tr>\n",
       "      <th>2</th>\n",
       "      <td>2</td>\n",
       "      <td>spdr gold trust gold shares</td>\n",
       "      <td>spdr gold trust spdr gold shares</td>\n",
       "      <td>NaN</td>\n",
       "    </tr>\n",
       "    <tr>\n",
       "      <th>3</th>\n",
       "      <td>3</td>\n",
       "      <td>vanguard total bond index adm</td>\n",
       "      <td>vanguard total bond market index</td>\n",
       "      <td>NaN</td>\n",
       "    </tr>\n",
       "    <tr>\n",
       "      <th>4</th>\n",
       "      <td>4</td>\n",
       "      <td>oakmark international fund class i</td>\n",
       "      <td>oakmark international cl i</td>\n",
       "      <td>NaN</td>\n",
       "    </tr>\n",
       "    <tr>\n",
       "      <th>...</th>\n",
       "      <td>...</td>\n",
       "      <td>...</td>\n",
       "      <td>...</td>\n",
       "      <td>...</td>\n",
       "    </tr>\n",
       "    <tr>\n",
       "      <th>511</th>\n",
       "      <td>511</td>\n",
       "      <td>at&amp;t inc com isin #us00206r1023 sedol #2831811</td>\n",
       "      <td>franklin res inc com isin #us8 sedol #2350684</td>\n",
       "      <td>NaN</td>\n",
       "    </tr>\n",
       "    <tr>\n",
       "      <th>512</th>\n",
       "      <td>512</td>\n",
       "      <td>vanguard total international bond index etf</td>\n",
       "      <td>vanguard total international bond et</td>\n",
       "      <td>NaN</td>\n",
       "    </tr>\n",
       "    <tr>\n",
       "      <th>513</th>\n",
       "      <td>513</td>\n",
       "      <td>wisdomtree japan hedged equity -</td>\n",
       "      <td>wisdomtree japan hedged eq</td>\n",
       "      <td>NaN</td>\n",
       "    </tr>\n",
       "    <tr>\n",
       "      <th>514</th>\n",
       "      <td>514</td>\n",
       "      <td>templeton global bond fund advisor class</td>\n",
       "      <td>templeton glbal bond adv</td>\n",
       "      <td>NaN</td>\n",
       "    </tr>\n",
       "    <tr>\n",
       "      <th>515</th>\n",
       "      <td>515</td>\n",
       "      <td>trp health sciences</td>\n",
       "      <td>t. rowe price health sciences fund</td>\n",
       "      <td>NaN</td>\n",
       "    </tr>\n",
       "  </tbody>\n",
       "</table>\n",
       "<p>516 rows × 4 columns</p>\n",
       "</div>"
      ],
      "text/plain": [
       "     test_id                                   description_x  \\\n",
       "0          0                                    semtech corp   \n",
       "1          1                          vanguard mid cap index   \n",
       "2          2                     spdr gold trust gold shares   \n",
       "3          3                   vanguard total bond index adm   \n",
       "4          4              oakmark international fund class i   \n",
       "..       ...                                             ...   \n",
       "511      511  at&t inc com isin #us00206r1023 sedol #2831811   \n",
       "512      512     vanguard total international bond index etf   \n",
       "513      513                wisdomtree japan hedged equity -   \n",
       "514      514        templeton global bond fund advisor class   \n",
       "515      515                             trp health sciences   \n",
       "\n",
       "                                     description_y  same_security  \n",
       "0                              semtech corporation            NaN  \n",
       "1                        vanguard midcap index - a            NaN  \n",
       "2                 spdr gold trust spdr gold shares            NaN  \n",
       "3                 vanguard total bond market index            NaN  \n",
       "4                       oakmark international cl i            NaN  \n",
       "..                                             ...            ...  \n",
       "511  franklin res inc com isin #us8 sedol #2350684            NaN  \n",
       "512           vanguard total international bond et            NaN  \n",
       "513                     wisdomtree japan hedged eq            NaN  \n",
       "514                       templeton glbal bond adv            NaN  \n",
       "515             t. rowe price health sciences fund            NaN  \n",
       "\n",
       "[516 rows x 4 columns]"
      ]
     },
     "execution_count": 6,
     "metadata": {},
     "output_type": "execute_result"
    }
   ],
   "source": [
    "test_df = pd.read_csv('test.csv')\n",
    "test_df"
   ]
  },
  {
   "cell_type": "code",
   "execution_count": 7,
   "metadata": {},
   "outputs": [
    {
     "data": {
      "text/plain": [
       "0                    [first, trust, dow, jones, internet]\n",
       "1              [schwab, intl, large, company, index, etf]\n",
       "2                      [vanguard, small, cap, index, adm]\n",
       "3       [duke, energy, corp, new, com, new, isin, #, u...\n",
       "4                                   [visa, inc, class, a]\n",
       "                              ...                        \n",
       "2137                        [delta, air, lines, inc, com]\n",
       "2138                        [cognizant, tech, solutns, a]\n",
       "2139    [pimco, investment, grade, corporate, bond, fu...\n",
       "2140                             [eli, lilly, &, co, com]\n",
       "2141                             [dfa, comm, strategy, i]\n",
       "Name: description_x_list, Length: 2142, dtype: object"
      ]
     },
     "execution_count": 7,
     "metadata": {},
     "output_type": "execute_result"
    }
   ],
   "source": [
    "#Tokenize the Description Columns in the DataFrames\n",
    "train_df['description_x_list'] = train_df['description_x'].apply(lambda x : word_tokenize(x))\n",
    "train_df['description_x_list']"
   ]
  },
  {
   "cell_type": "code",
   "execution_count": 8,
   "metadata": {},
   "outputs": [
    {
     "data": {
      "text/plain": [
       "0                       [first, trust, dj, internet, idx]\n",
       "1       [schwab, strategic, tr, fundamental, intl, lar...\n",
       "2                [vanguard, small-cap, index, fund, inst]\n",
       "3       [duke, energy, corp, new, com, new, isin, #, u...\n",
       "4                                          [visa, inc, .]\n",
       "                              ...                        \n",
       "2137                  [delta, air, lines, inc, dela, new]\n",
       "2138                   [cognizant, tech, solutions, corp]\n",
       "2139              [fid, conservative, income, bond, fund]\n",
       "2140                        [lilly, eli, &, co, com, npv]\n",
       "2141                     [dfa, commodity, strategy, port]\n",
       "Name: description_y_list, Length: 2142, dtype: object"
      ]
     },
     "execution_count": 8,
     "metadata": {},
     "output_type": "execute_result"
    }
   ],
   "source": [
    "train_df['description_y_list'] = train_df['description_y'].apply(lambda x : word_tokenize(x))\n",
    "train_df['description_y_list']"
   ]
  },
  {
   "cell_type": "code",
   "execution_count": 9,
   "metadata": {},
   "outputs": [
    {
     "data": {
      "text/plain": [
       "0                                        [semtech, corp]\n",
       "1                            [vanguard, mid, cap, index]\n",
       "2                      [spdr, gold, trust, gold, shares]\n",
       "3                    [vanguard, total, bond, index, adm]\n",
       "4               [oakmark, international, fund, class, i]\n",
       "                             ...                        \n",
       "511    [at, &, t, inc, com, isin, #, us00206r1023, se...\n",
       "512    [vanguard, total, international, bond, index, ...\n",
       "513               [wisdomtree, japan, hedged, equity, -]\n",
       "514      [templeton, global, bond, fund, advisor, class]\n",
       "515                              [trp, health, sciences]\n",
       "Name: description_x_list, Length: 516, dtype: object"
      ]
     },
     "execution_count": 9,
     "metadata": {},
     "output_type": "execute_result"
    }
   ],
   "source": [
    "test_df['description_x_list'] = test_df['description_x'].apply(lambda x : word_tokenize(x))\n",
    "test_df['description_x_list']"
   ]
  },
  {
   "cell_type": "code",
   "execution_count": 10,
   "metadata": {},
   "outputs": [
    {
     "data": {
      "text/plain": [
       "0                                 [semtech, corporation]\n",
       "1                        [vanguard, midcap, index, -, a]\n",
       "2                [spdr, gold, trust, spdr, gold, shares]\n",
       "3                 [vanguard, total, bond, market, index]\n",
       "4                        [oakmark, international, cl, i]\n",
       "                             ...                        \n",
       "511    [franklin, res, inc, com, isin, #, us8, sedol,...\n",
       "512           [vanguard, total, international, bond, et]\n",
       "513                      [wisdomtree, japan, hedged, eq]\n",
       "514                        [templeton, glbal, bond, adv]\n",
       "515            [t., rowe, price, health, sciences, fund]\n",
       "Name: description_y_list, Length: 516, dtype: object"
      ]
     },
     "execution_count": 10,
     "metadata": {},
     "output_type": "execute_result"
    }
   ],
   "source": [
    "test_df['description_y_list'] = test_df['description_y'].apply(lambda x : word_tokenize(x))\n",
    "test_df['description_y_list']"
   ]
  },
  {
   "cell_type": "code",
   "execution_count": 11,
   "metadata": {},
   "outputs": [
    {
     "name": "stderr",
     "output_type": "stream",
     "text": [
      "[nltk_data] Downloading package stopwords to\n",
      "[nltk_data]     C:\\Users\\bjros\\AppData\\Roaming\\nltk_data...\n",
      "[nltk_data]   Package stopwords is already up-to-date!\n"
     ]
    }
   ],
   "source": [
    "#Import Stop Words\n",
    "nltk.download(\"stopwords\")\n",
    "from nltk.corpus import stopwords"
   ]
  },
  {
   "cell_type": "code",
   "execution_count": 12,
   "metadata": {},
   "outputs": [],
   "source": [
    "#Set Stop Words\n",
    "stop_words = set(stopwords.words(\"english\"))"
   ]
  },
  {
   "cell_type": "code",
   "execution_count": 13,
   "metadata": {},
   "outputs": [],
   "source": [
    "#Create an Empty Filtered List\n",
    "#filtered_list_train_X = []"
   ]
  },
  {
   "cell_type": "code",
   "execution_count": 14,
   "metadata": {},
   "outputs": [
    {
     "data": {
      "text/plain": [
       "0                    [first, trust, dow, jones, internet]\n",
       "1              [schwab, intl, large, company, index, etf]\n",
       "2                      [vanguard, small, cap, index, adm]\n",
       "3       [duke, energy, corp, new, com, new, isin, #, u...\n",
       "4                                      [visa, inc, class]\n",
       "                              ...                        \n",
       "2137                        [delta, air, lines, inc, com]\n",
       "2138                           [cognizant, tech, solutns]\n",
       "2139    [pimco, investment, grade, corporate, bond, fu...\n",
       "2140                             [eli, lilly, &, co, com]\n",
       "2141                                [dfa, comm, strategy]\n",
       "Name: description_x_list_filtered, Length: 2142, dtype: object"
      ]
     },
     "execution_count": 14,
     "metadata": {},
     "output_type": "execute_result"
    }
   ],
   "source": [
    "#Create Filtered Word Columns\n",
    "train_df['description_x_list_filtered'] = train_df['description_x'].apply(lambda word : [word for word in word_tokenize(word) if word.casefold() not in stop_words])\n",
    "train_df['description_x_list_filtered']"
   ]
  },
  {
   "cell_type": "code",
   "execution_count": 15,
   "metadata": {},
   "outputs": [
    {
     "data": {
      "text/plain": [
       "0                       [first, trust, dj, internet, idx]\n",
       "1       [schwab, strategic, tr, fundamental, intl, lar...\n",
       "2                [vanguard, small-cap, index, fund, inst]\n",
       "3       [duke, energy, corp, new, com, new, isin, #, u...\n",
       "4                                          [visa, inc, .]\n",
       "                              ...                        \n",
       "2137                  [delta, air, lines, inc, dela, new]\n",
       "2138                   [cognizant, tech, solutions, corp]\n",
       "2139              [fid, conservative, income, bond, fund]\n",
       "2140                        [lilly, eli, &, co, com, npv]\n",
       "2141                     [dfa, commodity, strategy, port]\n",
       "Name: description_y_list_filtered, Length: 2142, dtype: object"
      ]
     },
     "execution_count": 15,
     "metadata": {},
     "output_type": "execute_result"
    }
   ],
   "source": [
    "train_df['description_y_list_filtered'] = train_df['description_y'].apply(lambda word : [word for word in word_tokenize(word) if word.casefold() not in stop_words])\n",
    "train_df['description_y_list_filtered']"
   ]
  },
  {
   "cell_type": "code",
   "execution_count": 16,
   "metadata": {},
   "outputs": [
    {
     "data": {
      "text/plain": [
       "0                                        [semtech, corp]\n",
       "1                            [vanguard, mid, cap, index]\n",
       "2                      [spdr, gold, trust, gold, shares]\n",
       "3                    [vanguard, total, bond, index, adm]\n",
       "4                  [oakmark, international, fund, class]\n",
       "                             ...                        \n",
       "511    [&, inc, com, isin, #, us00206r1023, sedol, #,...\n",
       "512    [vanguard, total, international, bond, index, ...\n",
       "513               [wisdomtree, japan, hedged, equity, -]\n",
       "514      [templeton, global, bond, fund, advisor, class]\n",
       "515                              [trp, health, sciences]\n",
       "Name: description_x_list_filtered, Length: 516, dtype: object"
      ]
     },
     "execution_count": 16,
     "metadata": {},
     "output_type": "execute_result"
    }
   ],
   "source": [
    "test_df['description_x_list_filtered'] = test_df['description_x'].apply(lambda word : [word for word in word_tokenize(word) if word.casefold() not in stop_words])\n",
    "test_df['description_x_list_filtered']"
   ]
  },
  {
   "cell_type": "code",
   "execution_count": 17,
   "metadata": {},
   "outputs": [
    {
     "data": {
      "text/plain": [
       "0                                 [semtech, corporation]\n",
       "1                           [vanguard, midcap, index, -]\n",
       "2                [spdr, gold, trust, spdr, gold, shares]\n",
       "3                 [vanguard, total, bond, market, index]\n",
       "4                           [oakmark, international, cl]\n",
       "                             ...                        \n",
       "511    [franklin, res, inc, com, isin, #, us8, sedol,...\n",
       "512           [vanguard, total, international, bond, et]\n",
       "513                      [wisdomtree, japan, hedged, eq]\n",
       "514                        [templeton, glbal, bond, adv]\n",
       "515            [t., rowe, price, health, sciences, fund]\n",
       "Name: description_y_list_filtered, Length: 516, dtype: object"
      ]
     },
     "execution_count": 17,
     "metadata": {},
     "output_type": "execute_result"
    }
   ],
   "source": [
    "test_df['description_y_list_filtered'] = test_df['description_y'].apply(lambda word : [word for word in word_tokenize(word) if word.casefold() not in stop_words])\n",
    "test_df['description_y_list_filtered']"
   ]
  },
  {
   "cell_type": "code",
   "execution_count": 18,
   "metadata": {},
   "outputs": [],
   "source": [
    "#Import PorterStemmer to Stem Words\n",
    "from nltk.stem import PorterStemmer"
   ]
  },
  {
   "cell_type": "code",
   "execution_count": 19,
   "metadata": {},
   "outputs": [],
   "source": [
    "#Stem the Words in the Filtered Lists to Return only the Root Words\n",
    "stemmer = PorterStemmer()"
   ]
  },
  {
   "cell_type": "code",
   "execution_count": 20,
   "metadata": {},
   "outputs": [
    {
     "data": {
      "text/plain": [
       "0                     [first, trust, dow, jone, internet]\n",
       "1               [schwab, intl, larg, compani, index, etf]\n",
       "2                      [vanguard, small, cap, index, adm]\n",
       "3       [duke, energi, corp, new, com, new, isin, #, u...\n",
       "4                                      [visa, inc, class]\n",
       "                              ...                        \n",
       "2137                         [delta, air, line, inc, com]\n",
       "2138                               [cogniz, tech, solutn]\n",
       "2139    [pimco, invest, grade, corpor, bond, fund, -, ...\n",
       "2140                             [eli, lilli, &, co, com]\n",
       "2141                                [dfa, comm, strategi]\n",
       "Name: description_x_list_stemmed, Length: 2142, dtype: object"
      ]
     },
     "execution_count": 20,
     "metadata": {},
     "output_type": "execute_result"
    }
   ],
   "source": [
    "train_df['description_x_list_stemmed'] = train_df['description_x'].apply(lambda word : [stemmer.stem(word) for word in word_tokenize(word) if word.casefold() not in stop_words])\n",
    "train_df['description_x_list_stemmed']"
   ]
  },
  {
   "cell_type": "code",
   "execution_count": 21,
   "metadata": {},
   "outputs": [
    {
     "data": {
      "text/plain": [
       "0                       [first, trust, dj, internet, idx]\n",
       "1       [schwab, strateg, tr, fundament, intl, larg, c...\n",
       "2                [vanguard, small-cap, index, fund, inst]\n",
       "3       [duke, energi, corp, new, com, new, isin, #, u...\n",
       "4                                          [visa, inc, .]\n",
       "                              ...                        \n",
       "2137                   [delta, air, line, inc, dela, new]\n",
       "2138                          [cogniz, tech, solut, corp]\n",
       "2139                    [fid, conserv, incom, bond, fund]\n",
       "2140                        [lilli, eli, &, co, com, npv]\n",
       "2141                        [dfa, commod, strategi, port]\n",
       "Name: description_y_list_stemmed, Length: 2142, dtype: object"
      ]
     },
     "execution_count": 21,
     "metadata": {},
     "output_type": "execute_result"
    }
   ],
   "source": [
    "train_df['description_y_list_stemmed'] = train_df['description_y'].apply(lambda word : [stemmer.stem(word) for word in word_tokenize(word) if word.casefold() not in stop_words])\n",
    "train_df['description_y_list_stemmed']"
   ]
  },
  {
   "cell_type": "code",
   "execution_count": 22,
   "metadata": {},
   "outputs": [
    {
     "data": {
      "text/plain": [
       "0                                        [semtech, corp]\n",
       "1                            [vanguard, mid, cap, index]\n",
       "2                       [spdr, gold, trust, gold, share]\n",
       "3                    [vanguard, total, bond, index, adm]\n",
       "4                         [oakmark, intern, fund, class]\n",
       "                             ...                        \n",
       "511    [&, inc, com, isin, #, us00206r1023, sedol, #,...\n",
       "512          [vanguard, total, intern, bond, index, etf]\n",
       "513                  [wisdomtre, japan, hedg, equiti, -]\n",
       "514      [templeton, global, bond, fund, advisor, class]\n",
       "515                                [trp, health, scienc]\n",
       "Name: description_x_list_stemmed, Length: 516, dtype: object"
      ]
     },
     "execution_count": 22,
     "metadata": {},
     "output_type": "execute_result"
    }
   ],
   "source": [
    "test_df['description_x_list_stemmed'] = test_df['description_x'].apply(lambda word : [stemmer.stem(word) for word in word_tokenize(word) if word.casefold() not in stop_words])\n",
    "test_df['description_x_list_stemmed']"
   ]
  },
  {
   "cell_type": "code",
   "execution_count": 23,
   "metadata": {},
   "outputs": [
    {
     "data": {
      "text/plain": [
       "0                                      [semtech, corpor]\n",
       "1                           [vanguard, midcap, index, -]\n",
       "2                 [spdr, gold, trust, spdr, gold, share]\n",
       "3                 [vanguard, total, bond, market, index]\n",
       "4                                  [oakmark, intern, cl]\n",
       "                             ...                        \n",
       "511    [franklin, re, inc, com, isin, #, us8, sedol, ...\n",
       "512                  [vanguard, total, intern, bond, et]\n",
       "513                         [wisdomtre, japan, hedg, eq]\n",
       "514                        [templeton, glbal, bond, adv]\n",
       "515               [t., row, price, health, scienc, fund]\n",
       "Name: description_y_list_stemmed, Length: 516, dtype: object"
      ]
     },
     "execution_count": 23,
     "metadata": {},
     "output_type": "execute_result"
    }
   ],
   "source": [
    "test_df['description_y_list_stemmed'] = test_df['description_y'].apply(lambda word : [stemmer.stem(word) for word in word_tokenize(word) if word.casefold() not in stop_words])\n",
    "test_df['description_y_list_stemmed']"
   ]
  },
  {
   "cell_type": "code",
   "execution_count": 24,
   "metadata": {},
   "outputs": [
    {
     "name": "stderr",
     "output_type": "stream",
     "text": [
      "[nltk_data] Downloading package averaged_perceptron_tagger to\n",
      "[nltk_data]     C:\\Users\\bjros\\AppData\\Roaming\\nltk_data...\n",
      "[nltk_data]   Package averaged_perceptron_tagger is already up-to-\n",
      "[nltk_data]       date!\n"
     ]
    },
    {
     "data": {
      "text/plain": [
       "True"
      ]
     },
     "execution_count": 24,
     "metadata": {},
     "output_type": "execute_result"
    }
   ],
   "source": [
    "#Import NLTK\n",
    "import nltk\n",
    "nltk.download('averaged_perceptron_tagger')"
   ]
  },
  {
   "cell_type": "code",
   "execution_count": 25,
   "metadata": {},
   "outputs": [
    {
     "data": {
      "text/plain": [
       "0       [(first, RB), (trust, NN), (dow, NN), (jone, N...\n",
       "1       [(schwab, NN), (intl, NN), (larg, NN), (compan...\n",
       "2       [(vanguard, RB), (small, JJ), (cap, NN), (inde...\n",
       "3       [(duke, NN), (energi, VBZ), (corp, JJ), (new, ...\n",
       "4                  [(visa, NNS), (inc, VBP), (class, NN)]\n",
       "                              ...                        \n",
       "2137    [(delta, JJ), (air, NN), (line, NN), (inc, NN)...\n",
       "2138             [(cogniz, NN), (tech, NN), (solutn, NN)]\n",
       "2139    [(pimco, NN), (invest, JJS), (grade, NN), (cor...\n",
       "2140    [(eli, JJ), (lilli, NNP), (&, CC), (co, NN), (...\n",
       "2141              [(dfa, NN), (comm, NN), (strategi, NN)]\n",
       "Name: description_x_list_tagged, Length: 2142, dtype: object"
      ]
     },
     "execution_count": 25,
     "metadata": {},
     "output_type": "execute_result"
    }
   ],
   "source": [
    "#Tag the Parts of a Speech to Determine with POS Tagging\n",
    "train_df['description_x_list_tagged'] = train_df['description_x_list_stemmed'].apply(lambda listy : nltk.pos_tag(listy))\n",
    "train_df['description_x_list_tagged']"
   ]
  },
  {
   "cell_type": "code",
   "execution_count": 26,
   "metadata": {},
   "outputs": [
    {
     "data": {
      "text/plain": [
       "0       [(first, RB), (trust, NN), (dj, NN), (internet...\n",
       "1       [(schwab, NN), (strateg, NN), (tr, NN), (funda...\n",
       "2       [(vanguard, RB), (small-cap, JJ), (index, NN),...\n",
       "3       [(duke, NN), (energi, VBZ), (corp, JJ), (new, ...\n",
       "4                         [(visa, NN), (inc, NN), (., .)]\n",
       "                              ...                        \n",
       "2137    [(delta, JJ), (air, NN), (line, NN), (inc, NN)...\n",
       "2138    [(cogniz, NN), (tech, NN), (solut, VBD), (corp...\n",
       "2139    [(fid, NN), (conserv, NN), (incom, VBP), (bond...\n",
       "2140    [(lilli, NN), (eli, NN), (&, CC), (co, NN), (c...\n",
       "2141    [(dfa, NN), (commod, NN), (strategi, NN), (por...\n",
       "Name: description_y_list_tagged, Length: 2142, dtype: object"
      ]
     },
     "execution_count": 26,
     "metadata": {},
     "output_type": "execute_result"
    }
   ],
   "source": [
    "train_df['description_y_list_tagged'] = train_df['description_y_list_stemmed'].apply(lambda listy : nltk.pos_tag(listy))\n",
    "train_df['description_y_list_tagged']"
   ]
  },
  {
   "cell_type": "code",
   "execution_count": 27,
   "metadata": {},
   "outputs": [
    {
     "data": {
      "text/plain": [
       "0                            [(semtech, NN), (corp, NN)]\n",
       "1      [(vanguard, RB), (mid, JJ), (cap, NN), (index,...\n",
       "2      [(spdr, NN), (gold, NN), (trust, NN), (gold, N...\n",
       "3      [(vanguard, NN), (total, JJ), (bond, NN), (ind...\n",
       "4      [(oakmark, NN), (intern, JJ), (fund, NN), (cla...\n",
       "                             ...                        \n",
       "511    [(&, CC), (inc, NN), (com, NN), (isin, NN), (#...\n",
       "512    [(vanguard, NN), (total, JJ), (intern, JJ), (b...\n",
       "513    [(wisdomtre, NN), (japan, NN), (hedg, NN), (eq...\n",
       "514    [(templeton, NN), (global, JJ), (bond, NN), (f...\n",
       "515              [(trp, NN), (health, NN), (scienc, NN)]\n",
       "Name: description_x_list_tagged, Length: 516, dtype: object"
      ]
     },
     "execution_count": 27,
     "metadata": {},
     "output_type": "execute_result"
    }
   ],
   "source": [
    "test_df['description_x_list_tagged'] = test_df['description_x_list_stemmed'].apply(lambda listy : nltk.pos_tag(listy))\n",
    "test_df['description_x_list_tagged']"
   ]
  },
  {
   "cell_type": "code",
   "execution_count": 28,
   "metadata": {},
   "outputs": [
    {
     "data": {
      "text/plain": [
       "0                          [(semtech, NN), (corpor, NN)]\n",
       "1      [(vanguard, RB), (midcap, NN), (index, NN), (-...\n",
       "2      [(spdr, NN), (gold, NN), (trust, NN), (spdr, N...\n",
       "3      [(vanguard, NN), (total, JJ), (bond, NN), (mar...\n",
       "4                [(oakmark, NN), (intern, JJ), (cl, NN)]\n",
       "                             ...                        \n",
       "511    [(franklin, NN), (re, NN), (inc, NN), (com, NN...\n",
       "512    [(vanguard, NN), (total, JJ), (intern, JJ), (b...\n",
       "513    [(wisdomtre, NN), (japan, NN), (hedg, NN), (eq...\n",
       "514    [(templeton, NN), (glbal, VBZ), (bond, NN), (a...\n",
       "515    [(t., NN), (row, NN), (price, NN), (health, NN...\n",
       "Name: description_y_list_tagged, Length: 516, dtype: object"
      ]
     },
     "execution_count": 28,
     "metadata": {},
     "output_type": "execute_result"
    }
   ],
   "source": [
    "test_df['description_y_list_tagged'] = test_df['description_y_list_stemmed'].apply(lambda listy : nltk.pos_tag(listy))\n",
    "test_df['description_y_list_tagged']"
   ]
  },
  {
   "cell_type": "code",
   "execution_count": 29,
   "metadata": {},
   "outputs": [
    {
     "name": "stderr",
     "output_type": "stream",
     "text": [
      "[nltk_data] Downloading package wordnet to\n",
      "[nltk_data]     C:\\Users\\bjros\\AppData\\Roaming\\nltk_data...\n",
      "[nltk_data]   Package wordnet is already up-to-date!\n"
     ]
    },
    {
     "data": {
      "text/plain": [
       "True"
      ]
     },
     "execution_count": 29,
     "metadata": {},
     "output_type": "execute_result"
    }
   ],
   "source": [
    "#Import Lemmatizer to Determine the Core Meaning of Words\n",
    "from nltk.stem import WordNetLemmatizer\n",
    "nltk.download('wordnet')"
   ]
  },
  {
   "cell_type": "code",
   "execution_count": 30,
   "metadata": {},
   "outputs": [],
   "source": [
    "lemmatizer = WordNetLemmatizer()"
   ]
  },
  {
   "cell_type": "markdown",
   "metadata": {},
   "source": [
    "#Create a List of Conversions between Default & Lemmatizer Tags\n",
    "train_df['description_x_list_tagged_word'] = train_df['description_x_list_tagged'].apply(lambda x : [tuple[0] for tuple in x])\n",
    "train_df['description_x_list_tagged_tag'] = train_df['description_x_list_tagged'].apply(lambda x : [tuple[1] for tuple in x])\n",
    "train_df['description_x_list_tagged_tag_1'] = train_df.explode('description_x_list_tagged_tag').replace(['JJ', 'NN', 'RB', 'PRP', 'VB'], ['a', 'n', 'r', 'n', 'v'])\n",
    "train_df['description_x_list_tagged_tag_1']"
   ]
  },
  {
   "cell_type": "code",
   "execution_count": 31,
   "metadata": {},
   "outputs": [
    {
     "data": {
      "text/plain": [
       "0                     [first, trust, dow, jone, internet]\n",
       "1               [schwab, intl, larg, compani, index, etf]\n",
       "2                      [vanguard, small, cap, index, adm]\n",
       "3       [duke, energi, corp, new, com, new, isin, #, u...\n",
       "4                                      [visa, inc, class]\n",
       "                              ...                        \n",
       "2137                         [delta, air, line, inc, com]\n",
       "2138                               [cogniz, tech, solutn]\n",
       "2139    [pimco, invest, grade, corpor, bond, fund, -, ...\n",
       "2140                             [eli, lilli, &, co, com]\n",
       "2141                                [dfa, comm, strategi]\n",
       "Name: description_x_list_lemmatized, Length: 2142, dtype: object"
      ]
     },
     "execution_count": 31,
     "metadata": {},
     "output_type": "execute_result"
    }
   ],
   "source": [
    "#Lemmatize the Words to Determine the Core Meaning\n",
    "train_df['description_x_list_lemmatized'] = train_df['description_x_list_tagged'].apply(lambda listy : [lemmatizer.lemmatize(word[0]) for word in listy])\n",
    "train_df['description_x_list_lemmatized']"
   ]
  },
  {
   "cell_type": "code",
   "execution_count": 32,
   "metadata": {},
   "outputs": [
    {
     "data": {
      "text/plain": [
       "0                       [first, trust, dj, internet, idx]\n",
       "1       [schwab, strateg, tr, fundament, intl, larg, c...\n",
       "2                [vanguard, small-cap, index, fund, inst]\n",
       "3       [duke, energi, corp, new, com, new, isin, #, u...\n",
       "4                                          [visa, inc, .]\n",
       "                              ...                        \n",
       "2137                   [delta, air, line, inc, dela, new]\n",
       "2138                          [cogniz, tech, solut, corp]\n",
       "2139                    [fid, conserv, incom, bond, fund]\n",
       "2140                        [lilli, eli, &, co, com, npv]\n",
       "2141                        [dfa, commod, strategi, port]\n",
       "Name: description_y_list_lemmatized, Length: 2142, dtype: object"
      ]
     },
     "execution_count": 32,
     "metadata": {},
     "output_type": "execute_result"
    }
   ],
   "source": [
    "train_df['description_y_list_lemmatized'] = train_df['description_y_list_tagged'].apply(lambda listy : [lemmatizer.lemmatize(word[0]) for word in listy])\n",
    "train_df['description_y_list_lemmatized']"
   ]
  },
  {
   "cell_type": "code",
   "execution_count": 33,
   "metadata": {},
   "outputs": [
    {
     "data": {
      "text/plain": [
       "0                                        [semtech, corp]\n",
       "1                            [vanguard, mid, cap, index]\n",
       "2                       [spdr, gold, trust, gold, share]\n",
       "3                    [vanguard, total, bond, index, adm]\n",
       "4                         [oakmark, intern, fund, class]\n",
       "                             ...                        \n",
       "511    [&, inc, com, isin, #, us00206r1023, sedol, #,...\n",
       "512          [vanguard, total, intern, bond, index, etf]\n",
       "513                  [wisdomtre, japan, hedg, equiti, -]\n",
       "514      [templeton, global, bond, fund, advisor, class]\n",
       "515                                [trp, health, scienc]\n",
       "Name: description_x_list_lemmatized, Length: 516, dtype: object"
      ]
     },
     "execution_count": 33,
     "metadata": {},
     "output_type": "execute_result"
    }
   ],
   "source": [
    "test_df['description_x_list_lemmatized'] = test_df['description_x_list_tagged'].apply(lambda listy : [lemmatizer.lemmatize(word[0]) for word in listy])\n",
    "test_df['description_x_list_lemmatized']"
   ]
  },
  {
   "cell_type": "code",
   "execution_count": 34,
   "metadata": {},
   "outputs": [
    {
     "data": {
      "text/plain": [
       "0                      [first, trust, dj, internet, idx]\n",
       "1      [schwab, strateg, tr, fundament, intl, larg, c...\n",
       "2               [vanguard, small-cap, index, fund, inst]\n",
       "3      [duke, energi, corp, new, com, new, isin, #, u...\n",
       "4                                         [visa, inc, .]\n",
       "                             ...                        \n",
       "511                              [walt, disney, co, com]\n",
       "512                                           [accentur]\n",
       "513                                        [phillip, 66]\n",
       "514           [aqr, fd, aqmixmanag, futur, strategi, fd]\n",
       "515                  [abbott, laboratori, div, :, 1.040]\n",
       "Name: description_y_list_lemmatized, Length: 516, dtype: object"
      ]
     },
     "execution_count": 34,
     "metadata": {},
     "output_type": "execute_result"
    }
   ],
   "source": [
    "test_df['description_y_list_lemmatized'] = train_df['description_y_list_tagged'].apply(lambda listy : [lemmatizer.lemmatize(word[0]) for word in listy])\n",
    "test_df['description_y_list_lemmatized']"
   ]
  },
  {
   "cell_type": "code",
   "execution_count": 43,
   "metadata": {},
   "outputs": [],
   "source": [
    "#Determine the Length of Text from Each Description Column\n",
    "from pyspark.sql.functions import length"
   ]
  },
  {
   "cell_type": "code",
   "execution_count": 47,
   "metadata": {},
   "outputs": [],
   "source": [
    "train_df['description_x_length'] = train_df['description_x'].str.len()"
   ]
  },
  {
   "cell_type": "code",
   "execution_count": 48,
   "metadata": {},
   "outputs": [],
   "source": [
    "train_df['description_y_length'] = train_df['description_y'].str.len()"
   ]
  },
  {
   "cell_type": "code",
   "execution_count": 49,
   "metadata": {},
   "outputs": [],
   "source": [
    "test_df['description_x_length'] = test_df['description_x'].str.len()"
   ]
  },
  {
   "cell_type": "code",
   "execution_count": 50,
   "metadata": {},
   "outputs": [],
   "source": [
    "test_df['description_y_length'] = test_df['description_y'].str.len()"
   ]
  },
  {
   "cell_type": "code",
   "execution_count": 51,
   "metadata": {},
   "outputs": [
    {
     "data": {
      "text/html": [
       "<div>\n",
       "<style scoped>\n",
       "    .dataframe tbody tr th:only-of-type {\n",
       "        vertical-align: middle;\n",
       "    }\n",
       "\n",
       "    .dataframe tbody tr th {\n",
       "        vertical-align: top;\n",
       "    }\n",
       "\n",
       "    .dataframe thead th {\n",
       "        text-align: right;\n",
       "    }\n",
       "</style>\n",
       "<table border=\"1\" class=\"dataframe\">\n",
       "  <thead>\n",
       "    <tr style=\"text-align: right;\">\n",
       "      <th></th>\n",
       "      <th>Unnamed: 0</th>\n",
       "      <th>description_x</th>\n",
       "      <th>description_y</th>\n",
       "      <th>ticker_x</th>\n",
       "      <th>ticker_y</th>\n",
       "      <th>same_security</th>\n",
       "      <th>description_x_list</th>\n",
       "      <th>description_y_list</th>\n",
       "      <th>description_x_list_filtered</th>\n",
       "      <th>description_y_list_filtered</th>\n",
       "      <th>description_x_list_stemmed</th>\n",
       "      <th>description_y_list_stemmed</th>\n",
       "      <th>description_x_list_tagged</th>\n",
       "      <th>description_y_list_tagged</th>\n",
       "      <th>description_x_list_lemmatized</th>\n",
       "      <th>description_y_list_lemmatized</th>\n",
       "      <th>description_x_length</th>\n",
       "      <th>description_y_length</th>\n",
       "    </tr>\n",
       "  </thead>\n",
       "  <tbody>\n",
       "    <tr>\n",
       "      <th>0</th>\n",
       "      <td>0</td>\n",
       "      <td>first trust dow jones internet</td>\n",
       "      <td>first trust dj internet idx</td>\n",
       "      <td>FDN</td>\n",
       "      <td>FDN</td>\n",
       "      <td>True</td>\n",
       "      <td>[first, trust, dow, jones, internet]</td>\n",
       "      <td>[first, trust, dj, internet, idx]</td>\n",
       "      <td>[first, trust, dow, jones, internet]</td>\n",
       "      <td>[first, trust, dj, internet, idx]</td>\n",
       "      <td>[first, trust, dow, jone, internet]</td>\n",
       "      <td>[first, trust, dj, internet, idx]</td>\n",
       "      <td>[(first, RB), (trust, NN), (dow, NN), (jone, N...</td>\n",
       "      <td>[(first, RB), (trust, NN), (dj, NN), (internet...</td>\n",
       "      <td>[first, trust, dow, jone, internet]</td>\n",
       "      <td>[first, trust, dj, internet, idx]</td>\n",
       "      <td>30</td>\n",
       "      <td>27</td>\n",
       "    </tr>\n",
       "    <tr>\n",
       "      <th>1</th>\n",
       "      <td>1</td>\n",
       "      <td>schwab intl large company index etf</td>\n",
       "      <td>schwab strategic tr fundamental intl large co ...</td>\n",
       "      <td>FNDF</td>\n",
       "      <td>FNDF</td>\n",
       "      <td>True</td>\n",
       "      <td>[schwab, intl, large, company, index, etf]</td>\n",
       "      <td>[schwab, strategic, tr, fundamental, intl, lar...</td>\n",
       "      <td>[schwab, intl, large, company, index, etf]</td>\n",
       "      <td>[schwab, strategic, tr, fundamental, intl, lar...</td>\n",
       "      <td>[schwab, intl, larg, compani, index, etf]</td>\n",
       "      <td>[schwab, strateg, tr, fundament, intl, larg, c...</td>\n",
       "      <td>[(schwab, NN), (intl, NN), (larg, NN), (compan...</td>\n",
       "      <td>[(schwab, NN), (strateg, NN), (tr, NN), (funda...</td>\n",
       "      <td>[schwab, intl, larg, compani, index, etf]</td>\n",
       "      <td>[schwab, strateg, tr, fundament, intl, larg, c...</td>\n",
       "      <td>35</td>\n",
       "      <td>55</td>\n",
       "    </tr>\n",
       "    <tr>\n",
       "      <th>2</th>\n",
       "      <td>2</td>\n",
       "      <td>vanguard small cap index adm</td>\n",
       "      <td>vanguard small-cap index fund inst</td>\n",
       "      <td>VSMAX</td>\n",
       "      <td>VSCIX</td>\n",
       "      <td>False</td>\n",
       "      <td>[vanguard, small, cap, index, adm]</td>\n",
       "      <td>[vanguard, small-cap, index, fund, inst]</td>\n",
       "      <td>[vanguard, small, cap, index, adm]</td>\n",
       "      <td>[vanguard, small-cap, index, fund, inst]</td>\n",
       "      <td>[vanguard, small, cap, index, adm]</td>\n",
       "      <td>[vanguard, small-cap, index, fund, inst]</td>\n",
       "      <td>[(vanguard, RB), (small, JJ), (cap, NN), (inde...</td>\n",
       "      <td>[(vanguard, RB), (small-cap, JJ), (index, NN),...</td>\n",
       "      <td>[vanguard, small, cap, index, adm]</td>\n",
       "      <td>[vanguard, small-cap, index, fund, inst]</td>\n",
       "      <td>28</td>\n",
       "      <td>34</td>\n",
       "    </tr>\n",
       "    <tr>\n",
       "      <th>3</th>\n",
       "      <td>3</td>\n",
       "      <td>duke energy corp new com new isin #us4 sedol #...</td>\n",
       "      <td>duke energy corp new com new isin #us26441c204...</td>\n",
       "      <td>DUK</td>\n",
       "      <td>DUK</td>\n",
       "      <td>True</td>\n",
       "      <td>[duke, energy, corp, new, com, new, isin, #, u...</td>\n",
       "      <td>[duke, energy, corp, new, com, new, isin, #, u...</td>\n",
       "      <td>[duke, energy, corp, new, com, new, isin, #, u...</td>\n",
       "      <td>[duke, energy, corp, new, com, new, isin, #, u...</td>\n",
       "      <td>[duke, energi, corp, new, com, new, isin, #, u...</td>\n",
       "      <td>[duke, energi, corp, new, com, new, isin, #, u...</td>\n",
       "      <td>[(duke, NN), (energi, VBZ), (corp, JJ), (new, ...</td>\n",
       "      <td>[(duke, NN), (energi, VBZ), (corp, JJ), (new, ...</td>\n",
       "      <td>[duke, energi, corp, new, com, new, isin, #, u...</td>\n",
       "      <td>[duke, energi, corp, new, com, new, isin, #, u...</td>\n",
       "      <td>53</td>\n",
       "      <td>60</td>\n",
       "    </tr>\n",
       "    <tr>\n",
       "      <th>4</th>\n",
       "      <td>4</td>\n",
       "      <td>visa inc class a</td>\n",
       "      <td>visa inc.</td>\n",
       "      <td>V</td>\n",
       "      <td>V</td>\n",
       "      <td>True</td>\n",
       "      <td>[visa, inc, class, a]</td>\n",
       "      <td>[visa, inc, .]</td>\n",
       "      <td>[visa, inc, class]</td>\n",
       "      <td>[visa, inc, .]</td>\n",
       "      <td>[visa, inc, class]</td>\n",
       "      <td>[visa, inc, .]</td>\n",
       "      <td>[(visa, NNS), (inc, VBP), (class, NN)]</td>\n",
       "      <td>[(visa, NN), (inc, NN), (., .)]</td>\n",
       "      <td>[visa, inc, class]</td>\n",
       "      <td>[visa, inc, .]</td>\n",
       "      <td>16</td>\n",
       "      <td>9</td>\n",
       "    </tr>\n",
       "    <tr>\n",
       "      <th>...</th>\n",
       "      <td>...</td>\n",
       "      <td>...</td>\n",
       "      <td>...</td>\n",
       "      <td>...</td>\n",
       "      <td>...</td>\n",
       "      <td>...</td>\n",
       "      <td>...</td>\n",
       "      <td>...</td>\n",
       "      <td>...</td>\n",
       "      <td>...</td>\n",
       "      <td>...</td>\n",
       "      <td>...</td>\n",
       "      <td>...</td>\n",
       "      <td>...</td>\n",
       "      <td>...</td>\n",
       "      <td>...</td>\n",
       "      <td>...</td>\n",
       "      <td>...</td>\n",
       "    </tr>\n",
       "    <tr>\n",
       "      <th>2137</th>\n",
       "      <td>2137</td>\n",
       "      <td>delta air lines inc com</td>\n",
       "      <td>delta air lines inc dela new</td>\n",
       "      <td>DAL</td>\n",
       "      <td>DAL</td>\n",
       "      <td>True</td>\n",
       "      <td>[delta, air, lines, inc, com]</td>\n",
       "      <td>[delta, air, lines, inc, dela, new]</td>\n",
       "      <td>[delta, air, lines, inc, com]</td>\n",
       "      <td>[delta, air, lines, inc, dela, new]</td>\n",
       "      <td>[delta, air, line, inc, com]</td>\n",
       "      <td>[delta, air, line, inc, dela, new]</td>\n",
       "      <td>[(delta, JJ), (air, NN), (line, NN), (inc, NN)...</td>\n",
       "      <td>[(delta, JJ), (air, NN), (line, NN), (inc, NN)...</td>\n",
       "      <td>[delta, air, line, inc, com]</td>\n",
       "      <td>[delta, air, line, inc, dela, new]</td>\n",
       "      <td>23</td>\n",
       "      <td>28</td>\n",
       "    </tr>\n",
       "    <tr>\n",
       "      <th>2138</th>\n",
       "      <td>2138</td>\n",
       "      <td>cognizant tech solutns a</td>\n",
       "      <td>cognizant tech solutions corp</td>\n",
       "      <td>CTSH</td>\n",
       "      <td>CTSH</td>\n",
       "      <td>True</td>\n",
       "      <td>[cognizant, tech, solutns, a]</td>\n",
       "      <td>[cognizant, tech, solutions, corp]</td>\n",
       "      <td>[cognizant, tech, solutns]</td>\n",
       "      <td>[cognizant, tech, solutions, corp]</td>\n",
       "      <td>[cogniz, tech, solutn]</td>\n",
       "      <td>[cogniz, tech, solut, corp]</td>\n",
       "      <td>[(cogniz, NN), (tech, NN), (solutn, NN)]</td>\n",
       "      <td>[(cogniz, NN), (tech, NN), (solut, VBD), (corp...</td>\n",
       "      <td>[cogniz, tech, solutn]</td>\n",
       "      <td>[cogniz, tech, solut, corp]</td>\n",
       "      <td>24</td>\n",
       "      <td>29</td>\n",
       "    </tr>\n",
       "    <tr>\n",
       "      <th>2139</th>\n",
       "      <td>2139</td>\n",
       "      <td>pimco investment grade corporate bond fund - c...</td>\n",
       "      <td>fid conservative income bond fund</td>\n",
       "      <td>PBDAX</td>\n",
       "      <td>FCONX</td>\n",
       "      <td>False</td>\n",
       "      <td>[pimco, investment, grade, corporate, bond, fu...</td>\n",
       "      <td>[fid, conservative, income, bond, fund]</td>\n",
       "      <td>[pimco, investment, grade, corporate, bond, fu...</td>\n",
       "      <td>[fid, conservative, income, bond, fund]</td>\n",
       "      <td>[pimco, invest, grade, corpor, bond, fund, -, ...</td>\n",
       "      <td>[fid, conserv, incom, bond, fund]</td>\n",
       "      <td>[(pimco, NN), (invest, JJS), (grade, NN), (cor...</td>\n",
       "      <td>[(fid, NN), (conserv, NN), (incom, VBP), (bond...</td>\n",
       "      <td>[pimco, invest, grade, corpor, bond, fund, -, ...</td>\n",
       "      <td>[fid, conserv, incom, bond, fund]</td>\n",
       "      <td>52</td>\n",
       "      <td>33</td>\n",
       "    </tr>\n",
       "    <tr>\n",
       "      <th>2140</th>\n",
       "      <td>2140</td>\n",
       "      <td>eli lilly &amp; co com</td>\n",
       "      <td>lilly eli &amp;co com npv</td>\n",
       "      <td>LLY</td>\n",
       "      <td>LLY</td>\n",
       "      <td>True</td>\n",
       "      <td>[eli, lilly, &amp;, co, com]</td>\n",
       "      <td>[lilly, eli, &amp;, co, com, npv]</td>\n",
       "      <td>[eli, lilly, &amp;, co, com]</td>\n",
       "      <td>[lilly, eli, &amp;, co, com, npv]</td>\n",
       "      <td>[eli, lilli, &amp;, co, com]</td>\n",
       "      <td>[lilli, eli, &amp;, co, com, npv]</td>\n",
       "      <td>[(eli, JJ), (lilli, NNP), (&amp;, CC), (co, NN), (...</td>\n",
       "      <td>[(lilli, NN), (eli, NN), (&amp;, CC), (co, NN), (c...</td>\n",
       "      <td>[eli, lilli, &amp;, co, com]</td>\n",
       "      <td>[lilli, eli, &amp;, co, com, npv]</td>\n",
       "      <td>18</td>\n",
       "      <td>21</td>\n",
       "    </tr>\n",
       "    <tr>\n",
       "      <th>2141</th>\n",
       "      <td>2141</td>\n",
       "      <td>dfa comm strategy i</td>\n",
       "      <td>dfa commodity strategy port</td>\n",
       "      <td>DCMSX</td>\n",
       "      <td>DCMSX</td>\n",
       "      <td>True</td>\n",
       "      <td>[dfa, comm, strategy, i]</td>\n",
       "      <td>[dfa, commodity, strategy, port]</td>\n",
       "      <td>[dfa, comm, strategy]</td>\n",
       "      <td>[dfa, commodity, strategy, port]</td>\n",
       "      <td>[dfa, comm, strategi]</td>\n",
       "      <td>[dfa, commod, strategi, port]</td>\n",
       "      <td>[(dfa, NN), (comm, NN), (strategi, NN)]</td>\n",
       "      <td>[(dfa, NN), (commod, NN), (strategi, NN), (por...</td>\n",
       "      <td>[dfa, comm, strategi]</td>\n",
       "      <td>[dfa, commod, strategi, port]</td>\n",
       "      <td>19</td>\n",
       "      <td>27</td>\n",
       "    </tr>\n",
       "  </tbody>\n",
       "</table>\n",
       "<p>2142 rows × 18 columns</p>\n",
       "</div>"
      ],
      "text/plain": [
       "      Unnamed: 0                                      description_x  \\\n",
       "0              0                     first trust dow jones internet   \n",
       "1              1                schwab intl large company index etf   \n",
       "2              2                       vanguard small cap index adm   \n",
       "3              3  duke energy corp new com new isin #us4 sedol #...   \n",
       "4              4                                   visa inc class a   \n",
       "...          ...                                                ...   \n",
       "2137        2137                            delta air lines inc com   \n",
       "2138        2138                           cognizant tech solutns a   \n",
       "2139        2139  pimco investment grade corporate bond fund - c...   \n",
       "2140        2140                                 eli lilly & co com   \n",
       "2141        2141                                dfa comm strategy i   \n",
       "\n",
       "                                          description_y ticker_x ticker_y  \\\n",
       "0                           first trust dj internet idx      FDN      FDN   \n",
       "1     schwab strategic tr fundamental intl large co ...     FNDF     FNDF   \n",
       "2                    vanguard small-cap index fund inst    VSMAX    VSCIX   \n",
       "3     duke energy corp new com new isin #us26441c204...      DUK      DUK   \n",
       "4                                             visa inc.        V        V   \n",
       "...                                                 ...      ...      ...   \n",
       "2137                       delta air lines inc dela new      DAL      DAL   \n",
       "2138                      cognizant tech solutions corp     CTSH     CTSH   \n",
       "2139                  fid conservative income bond fund    PBDAX    FCONX   \n",
       "2140                              lilly eli &co com npv      LLY      LLY   \n",
       "2141                        dfa commodity strategy port    DCMSX    DCMSX   \n",
       "\n",
       "      same_security                                 description_x_list  \\\n",
       "0              True               [first, trust, dow, jones, internet]   \n",
       "1              True         [schwab, intl, large, company, index, etf]   \n",
       "2             False                 [vanguard, small, cap, index, adm]   \n",
       "3              True  [duke, energy, corp, new, com, new, isin, #, u...   \n",
       "4              True                              [visa, inc, class, a]   \n",
       "...             ...                                                ...   \n",
       "2137           True                      [delta, air, lines, inc, com]   \n",
       "2138           True                      [cognizant, tech, solutns, a]   \n",
       "2139          False  [pimco, investment, grade, corporate, bond, fu...   \n",
       "2140           True                           [eli, lilly, &, co, com]   \n",
       "2141           True                           [dfa, comm, strategy, i]   \n",
       "\n",
       "                                     description_y_list  \\\n",
       "0                     [first, trust, dj, internet, idx]   \n",
       "1     [schwab, strategic, tr, fundamental, intl, lar...   \n",
       "2              [vanguard, small-cap, index, fund, inst]   \n",
       "3     [duke, energy, corp, new, com, new, isin, #, u...   \n",
       "4                                        [visa, inc, .]   \n",
       "...                                                 ...   \n",
       "2137                [delta, air, lines, inc, dela, new]   \n",
       "2138                 [cognizant, tech, solutions, corp]   \n",
       "2139            [fid, conservative, income, bond, fund]   \n",
       "2140                      [lilly, eli, &, co, com, npv]   \n",
       "2141                   [dfa, commodity, strategy, port]   \n",
       "\n",
       "                            description_x_list_filtered  \\\n",
       "0                  [first, trust, dow, jones, internet]   \n",
       "1            [schwab, intl, large, company, index, etf]   \n",
       "2                    [vanguard, small, cap, index, adm]   \n",
       "3     [duke, energy, corp, new, com, new, isin, #, u...   \n",
       "4                                    [visa, inc, class]   \n",
       "...                                                 ...   \n",
       "2137                      [delta, air, lines, inc, com]   \n",
       "2138                         [cognizant, tech, solutns]   \n",
       "2139  [pimco, investment, grade, corporate, bond, fu...   \n",
       "2140                           [eli, lilly, &, co, com]   \n",
       "2141                              [dfa, comm, strategy]   \n",
       "\n",
       "                            description_y_list_filtered  \\\n",
       "0                     [first, trust, dj, internet, idx]   \n",
       "1     [schwab, strategic, tr, fundamental, intl, lar...   \n",
       "2              [vanguard, small-cap, index, fund, inst]   \n",
       "3     [duke, energy, corp, new, com, new, isin, #, u...   \n",
       "4                                        [visa, inc, .]   \n",
       "...                                                 ...   \n",
       "2137                [delta, air, lines, inc, dela, new]   \n",
       "2138                 [cognizant, tech, solutions, corp]   \n",
       "2139            [fid, conservative, income, bond, fund]   \n",
       "2140                      [lilly, eli, &, co, com, npv]   \n",
       "2141                   [dfa, commodity, strategy, port]   \n",
       "\n",
       "                             description_x_list_stemmed  \\\n",
       "0                   [first, trust, dow, jone, internet]   \n",
       "1             [schwab, intl, larg, compani, index, etf]   \n",
       "2                    [vanguard, small, cap, index, adm]   \n",
       "3     [duke, energi, corp, new, com, new, isin, #, u...   \n",
       "4                                    [visa, inc, class]   \n",
       "...                                                 ...   \n",
       "2137                       [delta, air, line, inc, com]   \n",
       "2138                             [cogniz, tech, solutn]   \n",
       "2139  [pimco, invest, grade, corpor, bond, fund, -, ...   \n",
       "2140                           [eli, lilli, &, co, com]   \n",
       "2141                              [dfa, comm, strategi]   \n",
       "\n",
       "                             description_y_list_stemmed  \\\n",
       "0                     [first, trust, dj, internet, idx]   \n",
       "1     [schwab, strateg, tr, fundament, intl, larg, c...   \n",
       "2              [vanguard, small-cap, index, fund, inst]   \n",
       "3     [duke, energi, corp, new, com, new, isin, #, u...   \n",
       "4                                        [visa, inc, .]   \n",
       "...                                                 ...   \n",
       "2137                 [delta, air, line, inc, dela, new]   \n",
       "2138                        [cogniz, tech, solut, corp]   \n",
       "2139                  [fid, conserv, incom, bond, fund]   \n",
       "2140                      [lilli, eli, &, co, com, npv]   \n",
       "2141                      [dfa, commod, strategi, port]   \n",
       "\n",
       "                              description_x_list_tagged  \\\n",
       "0     [(first, RB), (trust, NN), (dow, NN), (jone, N...   \n",
       "1     [(schwab, NN), (intl, NN), (larg, NN), (compan...   \n",
       "2     [(vanguard, RB), (small, JJ), (cap, NN), (inde...   \n",
       "3     [(duke, NN), (energi, VBZ), (corp, JJ), (new, ...   \n",
       "4                [(visa, NNS), (inc, VBP), (class, NN)]   \n",
       "...                                                 ...   \n",
       "2137  [(delta, JJ), (air, NN), (line, NN), (inc, NN)...   \n",
       "2138           [(cogniz, NN), (tech, NN), (solutn, NN)]   \n",
       "2139  [(pimco, NN), (invest, JJS), (grade, NN), (cor...   \n",
       "2140  [(eli, JJ), (lilli, NNP), (&, CC), (co, NN), (...   \n",
       "2141            [(dfa, NN), (comm, NN), (strategi, NN)]   \n",
       "\n",
       "                              description_y_list_tagged  \\\n",
       "0     [(first, RB), (trust, NN), (dj, NN), (internet...   \n",
       "1     [(schwab, NN), (strateg, NN), (tr, NN), (funda...   \n",
       "2     [(vanguard, RB), (small-cap, JJ), (index, NN),...   \n",
       "3     [(duke, NN), (energi, VBZ), (corp, JJ), (new, ...   \n",
       "4                       [(visa, NN), (inc, NN), (., .)]   \n",
       "...                                                 ...   \n",
       "2137  [(delta, JJ), (air, NN), (line, NN), (inc, NN)...   \n",
       "2138  [(cogniz, NN), (tech, NN), (solut, VBD), (corp...   \n",
       "2139  [(fid, NN), (conserv, NN), (incom, VBP), (bond...   \n",
       "2140  [(lilli, NN), (eli, NN), (&, CC), (co, NN), (c...   \n",
       "2141  [(dfa, NN), (commod, NN), (strategi, NN), (por...   \n",
       "\n",
       "                          description_x_list_lemmatized  \\\n",
       "0                   [first, trust, dow, jone, internet]   \n",
       "1             [schwab, intl, larg, compani, index, etf]   \n",
       "2                    [vanguard, small, cap, index, adm]   \n",
       "3     [duke, energi, corp, new, com, new, isin, #, u...   \n",
       "4                                    [visa, inc, class]   \n",
       "...                                                 ...   \n",
       "2137                       [delta, air, line, inc, com]   \n",
       "2138                             [cogniz, tech, solutn]   \n",
       "2139  [pimco, invest, grade, corpor, bond, fund, -, ...   \n",
       "2140                           [eli, lilli, &, co, com]   \n",
       "2141                              [dfa, comm, strategi]   \n",
       "\n",
       "                          description_y_list_lemmatized  description_x_length  \\\n",
       "0                     [first, trust, dj, internet, idx]                    30   \n",
       "1     [schwab, strateg, tr, fundament, intl, larg, c...                    35   \n",
       "2              [vanguard, small-cap, index, fund, inst]                    28   \n",
       "3     [duke, energi, corp, new, com, new, isin, #, u...                    53   \n",
       "4                                        [visa, inc, .]                    16   \n",
       "...                                                 ...                   ...   \n",
       "2137                 [delta, air, line, inc, dela, new]                    23   \n",
       "2138                        [cogniz, tech, solut, corp]                    24   \n",
       "2139                  [fid, conserv, incom, bond, fund]                    52   \n",
       "2140                      [lilli, eli, &, co, com, npv]                    18   \n",
       "2141                      [dfa, commod, strategi, port]                    19   \n",
       "\n",
       "      description_y_length  \n",
       "0                       27  \n",
       "1                       55  \n",
       "2                       34  \n",
       "3                       60  \n",
       "4                        9  \n",
       "...                    ...  \n",
       "2137                    28  \n",
       "2138                    29  \n",
       "2139                    33  \n",
       "2140                    21  \n",
       "2141                    27  \n",
       "\n",
       "[2142 rows x 18 columns]"
      ]
     },
     "execution_count": 51,
     "metadata": {},
     "output_type": "execute_result"
    }
   ],
   "source": [
    "train_df"
   ]
  },
  {
   "cell_type": "code",
   "execution_count": 52,
   "metadata": {},
   "outputs": [
    {
     "data": {
      "text/html": [
       "<div>\n",
       "<style scoped>\n",
       "    .dataframe tbody tr th:only-of-type {\n",
       "        vertical-align: middle;\n",
       "    }\n",
       "\n",
       "    .dataframe tbody tr th {\n",
       "        vertical-align: top;\n",
       "    }\n",
       "\n",
       "    .dataframe thead th {\n",
       "        text-align: right;\n",
       "    }\n",
       "</style>\n",
       "<table border=\"1\" class=\"dataframe\">\n",
       "  <thead>\n",
       "    <tr style=\"text-align: right;\">\n",
       "      <th></th>\n",
       "      <th>test_id</th>\n",
       "      <th>description_x</th>\n",
       "      <th>description_y</th>\n",
       "      <th>same_security</th>\n",
       "      <th>description_x_list</th>\n",
       "      <th>description_y_list</th>\n",
       "      <th>description_x_list_filtered</th>\n",
       "      <th>description_y_list_filtered</th>\n",
       "      <th>description_x_list_stemmed</th>\n",
       "      <th>description_y_list_stemmed</th>\n",
       "      <th>description_x_list_tagged</th>\n",
       "      <th>description_y_list_tagged</th>\n",
       "      <th>description_x_list_lemmatized</th>\n",
       "      <th>description_y_list_lemmatized</th>\n",
       "      <th>description_x_length</th>\n",
       "      <th>description_y_length</th>\n",
       "    </tr>\n",
       "  </thead>\n",
       "  <tbody>\n",
       "    <tr>\n",
       "      <th>0</th>\n",
       "      <td>0</td>\n",
       "      <td>semtech corp</td>\n",
       "      <td>semtech corporation</td>\n",
       "      <td>NaN</td>\n",
       "      <td>[semtech, corp]</td>\n",
       "      <td>[semtech, corporation]</td>\n",
       "      <td>[semtech, corp]</td>\n",
       "      <td>[semtech, corporation]</td>\n",
       "      <td>[semtech, corp]</td>\n",
       "      <td>[semtech, corpor]</td>\n",
       "      <td>[(semtech, NN), (corp, NN)]</td>\n",
       "      <td>[(semtech, NN), (corpor, NN)]</td>\n",
       "      <td>[semtech, corp]</td>\n",
       "      <td>[first, trust, dj, internet, idx]</td>\n",
       "      <td>12</td>\n",
       "      <td>19</td>\n",
       "    </tr>\n",
       "    <tr>\n",
       "      <th>1</th>\n",
       "      <td>1</td>\n",
       "      <td>vanguard mid cap index</td>\n",
       "      <td>vanguard midcap index - a</td>\n",
       "      <td>NaN</td>\n",
       "      <td>[vanguard, mid, cap, index]</td>\n",
       "      <td>[vanguard, midcap, index, -, a]</td>\n",
       "      <td>[vanguard, mid, cap, index]</td>\n",
       "      <td>[vanguard, midcap, index, -]</td>\n",
       "      <td>[vanguard, mid, cap, index]</td>\n",
       "      <td>[vanguard, midcap, index, -]</td>\n",
       "      <td>[(vanguard, RB), (mid, JJ), (cap, NN), (index,...</td>\n",
       "      <td>[(vanguard, RB), (midcap, NN), (index, NN), (-...</td>\n",
       "      <td>[vanguard, mid, cap, index]</td>\n",
       "      <td>[schwab, strateg, tr, fundament, intl, larg, c...</td>\n",
       "      <td>22</td>\n",
       "      <td>25</td>\n",
       "    </tr>\n",
       "    <tr>\n",
       "      <th>2</th>\n",
       "      <td>2</td>\n",
       "      <td>spdr gold trust gold shares</td>\n",
       "      <td>spdr gold trust spdr gold shares</td>\n",
       "      <td>NaN</td>\n",
       "      <td>[spdr, gold, trust, gold, shares]</td>\n",
       "      <td>[spdr, gold, trust, spdr, gold, shares]</td>\n",
       "      <td>[spdr, gold, trust, gold, shares]</td>\n",
       "      <td>[spdr, gold, trust, spdr, gold, shares]</td>\n",
       "      <td>[spdr, gold, trust, gold, share]</td>\n",
       "      <td>[spdr, gold, trust, spdr, gold, share]</td>\n",
       "      <td>[(spdr, NN), (gold, NN), (trust, NN), (gold, N...</td>\n",
       "      <td>[(spdr, NN), (gold, NN), (trust, NN), (spdr, N...</td>\n",
       "      <td>[spdr, gold, trust, gold, share]</td>\n",
       "      <td>[vanguard, small-cap, index, fund, inst]</td>\n",
       "      <td>27</td>\n",
       "      <td>32</td>\n",
       "    </tr>\n",
       "    <tr>\n",
       "      <th>3</th>\n",
       "      <td>3</td>\n",
       "      <td>vanguard total bond index adm</td>\n",
       "      <td>vanguard total bond market index</td>\n",
       "      <td>NaN</td>\n",
       "      <td>[vanguard, total, bond, index, adm]</td>\n",
       "      <td>[vanguard, total, bond, market, index]</td>\n",
       "      <td>[vanguard, total, bond, index, adm]</td>\n",
       "      <td>[vanguard, total, bond, market, index]</td>\n",
       "      <td>[vanguard, total, bond, index, adm]</td>\n",
       "      <td>[vanguard, total, bond, market, index]</td>\n",
       "      <td>[(vanguard, NN), (total, JJ), (bond, NN), (ind...</td>\n",
       "      <td>[(vanguard, NN), (total, JJ), (bond, NN), (mar...</td>\n",
       "      <td>[vanguard, total, bond, index, adm]</td>\n",
       "      <td>[duke, energi, corp, new, com, new, isin, #, u...</td>\n",
       "      <td>29</td>\n",
       "      <td>32</td>\n",
       "    </tr>\n",
       "    <tr>\n",
       "      <th>4</th>\n",
       "      <td>4</td>\n",
       "      <td>oakmark international fund class i</td>\n",
       "      <td>oakmark international cl i</td>\n",
       "      <td>NaN</td>\n",
       "      <td>[oakmark, international, fund, class, i]</td>\n",
       "      <td>[oakmark, international, cl, i]</td>\n",
       "      <td>[oakmark, international, fund, class]</td>\n",
       "      <td>[oakmark, international, cl]</td>\n",
       "      <td>[oakmark, intern, fund, class]</td>\n",
       "      <td>[oakmark, intern, cl]</td>\n",
       "      <td>[(oakmark, NN), (intern, JJ), (fund, NN), (cla...</td>\n",
       "      <td>[(oakmark, NN), (intern, JJ), (cl, NN)]</td>\n",
       "      <td>[oakmark, intern, fund, class]</td>\n",
       "      <td>[visa, inc, .]</td>\n",
       "      <td>34</td>\n",
       "      <td>26</td>\n",
       "    </tr>\n",
       "    <tr>\n",
       "      <th>...</th>\n",
       "      <td>...</td>\n",
       "      <td>...</td>\n",
       "      <td>...</td>\n",
       "      <td>...</td>\n",
       "      <td>...</td>\n",
       "      <td>...</td>\n",
       "      <td>...</td>\n",
       "      <td>...</td>\n",
       "      <td>...</td>\n",
       "      <td>...</td>\n",
       "      <td>...</td>\n",
       "      <td>...</td>\n",
       "      <td>...</td>\n",
       "      <td>...</td>\n",
       "      <td>...</td>\n",
       "      <td>...</td>\n",
       "    </tr>\n",
       "    <tr>\n",
       "      <th>511</th>\n",
       "      <td>511</td>\n",
       "      <td>at&amp;t inc com isin #us00206r1023 sedol #2831811</td>\n",
       "      <td>franklin res inc com isin #us8 sedol #2350684</td>\n",
       "      <td>NaN</td>\n",
       "      <td>[at, &amp;, t, inc, com, isin, #, us00206r1023, se...</td>\n",
       "      <td>[franklin, res, inc, com, isin, #, us8, sedol,...</td>\n",
       "      <td>[&amp;, inc, com, isin, #, us00206r1023, sedol, #,...</td>\n",
       "      <td>[franklin, res, inc, com, isin, #, us8, sedol,...</td>\n",
       "      <td>[&amp;, inc, com, isin, #, us00206r1023, sedol, #,...</td>\n",
       "      <td>[franklin, re, inc, com, isin, #, us8, sedol, ...</td>\n",
       "      <td>[(&amp;, CC), (inc, NN), (com, NN), (isin, NN), (#...</td>\n",
       "      <td>[(franklin, NN), (re, NN), (inc, NN), (com, NN...</td>\n",
       "      <td>[&amp;, inc, com, isin, #, us00206r1023, sedol, #,...</td>\n",
       "      <td>[walt, disney, co, com]</td>\n",
       "      <td>46</td>\n",
       "      <td>45</td>\n",
       "    </tr>\n",
       "    <tr>\n",
       "      <th>512</th>\n",
       "      <td>512</td>\n",
       "      <td>vanguard total international bond index etf</td>\n",
       "      <td>vanguard total international bond et</td>\n",
       "      <td>NaN</td>\n",
       "      <td>[vanguard, total, international, bond, index, ...</td>\n",
       "      <td>[vanguard, total, international, bond, et]</td>\n",
       "      <td>[vanguard, total, international, bond, index, ...</td>\n",
       "      <td>[vanguard, total, international, bond, et]</td>\n",
       "      <td>[vanguard, total, intern, bond, index, etf]</td>\n",
       "      <td>[vanguard, total, intern, bond, et]</td>\n",
       "      <td>[(vanguard, NN), (total, JJ), (intern, JJ), (b...</td>\n",
       "      <td>[(vanguard, NN), (total, JJ), (intern, JJ), (b...</td>\n",
       "      <td>[vanguard, total, intern, bond, index, etf]</td>\n",
       "      <td>[accentur]</td>\n",
       "      <td>43</td>\n",
       "      <td>36</td>\n",
       "    </tr>\n",
       "    <tr>\n",
       "      <th>513</th>\n",
       "      <td>513</td>\n",
       "      <td>wisdomtree japan hedged equity -</td>\n",
       "      <td>wisdomtree japan hedged eq</td>\n",
       "      <td>NaN</td>\n",
       "      <td>[wisdomtree, japan, hedged, equity, -]</td>\n",
       "      <td>[wisdomtree, japan, hedged, eq]</td>\n",
       "      <td>[wisdomtree, japan, hedged, equity, -]</td>\n",
       "      <td>[wisdomtree, japan, hedged, eq]</td>\n",
       "      <td>[wisdomtre, japan, hedg, equiti, -]</td>\n",
       "      <td>[wisdomtre, japan, hedg, eq]</td>\n",
       "      <td>[(wisdomtre, NN), (japan, NN), (hedg, NN), (eq...</td>\n",
       "      <td>[(wisdomtre, NN), (japan, NN), (hedg, NN), (eq...</td>\n",
       "      <td>[wisdomtre, japan, hedg, equiti, -]</td>\n",
       "      <td>[phillip, 66]</td>\n",
       "      <td>32</td>\n",
       "      <td>26</td>\n",
       "    </tr>\n",
       "    <tr>\n",
       "      <th>514</th>\n",
       "      <td>514</td>\n",
       "      <td>templeton global bond fund advisor class</td>\n",
       "      <td>templeton glbal bond adv</td>\n",
       "      <td>NaN</td>\n",
       "      <td>[templeton, global, bond, fund, advisor, class]</td>\n",
       "      <td>[templeton, glbal, bond, adv]</td>\n",
       "      <td>[templeton, global, bond, fund, advisor, class]</td>\n",
       "      <td>[templeton, glbal, bond, adv]</td>\n",
       "      <td>[templeton, global, bond, fund, advisor, class]</td>\n",
       "      <td>[templeton, glbal, bond, adv]</td>\n",
       "      <td>[(templeton, NN), (global, JJ), (bond, NN), (f...</td>\n",
       "      <td>[(templeton, NN), (glbal, VBZ), (bond, NN), (a...</td>\n",
       "      <td>[templeton, global, bond, fund, advisor, class]</td>\n",
       "      <td>[aqr, fd, aqmixmanag, futur, strategi, fd]</td>\n",
       "      <td>40</td>\n",
       "      <td>24</td>\n",
       "    </tr>\n",
       "    <tr>\n",
       "      <th>515</th>\n",
       "      <td>515</td>\n",
       "      <td>trp health sciences</td>\n",
       "      <td>t. rowe price health sciences fund</td>\n",
       "      <td>NaN</td>\n",
       "      <td>[trp, health, sciences]</td>\n",
       "      <td>[t., rowe, price, health, sciences, fund]</td>\n",
       "      <td>[trp, health, sciences]</td>\n",
       "      <td>[t., rowe, price, health, sciences, fund]</td>\n",
       "      <td>[trp, health, scienc]</td>\n",
       "      <td>[t., row, price, health, scienc, fund]</td>\n",
       "      <td>[(trp, NN), (health, NN), (scienc, NN)]</td>\n",
       "      <td>[(t., NN), (row, NN), (price, NN), (health, NN...</td>\n",
       "      <td>[trp, health, scienc]</td>\n",
       "      <td>[abbott, laboratori, div, :, 1.040]</td>\n",
       "      <td>19</td>\n",
       "      <td>34</td>\n",
       "    </tr>\n",
       "  </tbody>\n",
       "</table>\n",
       "<p>516 rows × 16 columns</p>\n",
       "</div>"
      ],
      "text/plain": [
       "     test_id                                   description_x  \\\n",
       "0          0                                    semtech corp   \n",
       "1          1                          vanguard mid cap index   \n",
       "2          2                     spdr gold trust gold shares   \n",
       "3          3                   vanguard total bond index adm   \n",
       "4          4              oakmark international fund class i   \n",
       "..       ...                                             ...   \n",
       "511      511  at&t inc com isin #us00206r1023 sedol #2831811   \n",
       "512      512     vanguard total international bond index etf   \n",
       "513      513                wisdomtree japan hedged equity -   \n",
       "514      514        templeton global bond fund advisor class   \n",
       "515      515                             trp health sciences   \n",
       "\n",
       "                                     description_y  same_security  \\\n",
       "0                              semtech corporation            NaN   \n",
       "1                        vanguard midcap index - a            NaN   \n",
       "2                 spdr gold trust spdr gold shares            NaN   \n",
       "3                 vanguard total bond market index            NaN   \n",
       "4                       oakmark international cl i            NaN   \n",
       "..                                             ...            ...   \n",
       "511  franklin res inc com isin #us8 sedol #2350684            NaN   \n",
       "512           vanguard total international bond et            NaN   \n",
       "513                     wisdomtree japan hedged eq            NaN   \n",
       "514                       templeton glbal bond adv            NaN   \n",
       "515             t. rowe price health sciences fund            NaN   \n",
       "\n",
       "                                    description_x_list  \\\n",
       "0                                      [semtech, corp]   \n",
       "1                          [vanguard, mid, cap, index]   \n",
       "2                    [spdr, gold, trust, gold, shares]   \n",
       "3                  [vanguard, total, bond, index, adm]   \n",
       "4             [oakmark, international, fund, class, i]   \n",
       "..                                                 ...   \n",
       "511  [at, &, t, inc, com, isin, #, us00206r1023, se...   \n",
       "512  [vanguard, total, international, bond, index, ...   \n",
       "513             [wisdomtree, japan, hedged, equity, -]   \n",
       "514    [templeton, global, bond, fund, advisor, class]   \n",
       "515                            [trp, health, sciences]   \n",
       "\n",
       "                                    description_y_list  \\\n",
       "0                               [semtech, corporation]   \n",
       "1                      [vanguard, midcap, index, -, a]   \n",
       "2              [spdr, gold, trust, spdr, gold, shares]   \n",
       "3               [vanguard, total, bond, market, index]   \n",
       "4                      [oakmark, international, cl, i]   \n",
       "..                                                 ...   \n",
       "511  [franklin, res, inc, com, isin, #, us8, sedol,...   \n",
       "512         [vanguard, total, international, bond, et]   \n",
       "513                    [wisdomtree, japan, hedged, eq]   \n",
       "514                      [templeton, glbal, bond, adv]   \n",
       "515          [t., rowe, price, health, sciences, fund]   \n",
       "\n",
       "                           description_x_list_filtered  \\\n",
       "0                                      [semtech, corp]   \n",
       "1                          [vanguard, mid, cap, index]   \n",
       "2                    [spdr, gold, trust, gold, shares]   \n",
       "3                  [vanguard, total, bond, index, adm]   \n",
       "4                [oakmark, international, fund, class]   \n",
       "..                                                 ...   \n",
       "511  [&, inc, com, isin, #, us00206r1023, sedol, #,...   \n",
       "512  [vanguard, total, international, bond, index, ...   \n",
       "513             [wisdomtree, japan, hedged, equity, -]   \n",
       "514    [templeton, global, bond, fund, advisor, class]   \n",
       "515                            [trp, health, sciences]   \n",
       "\n",
       "                           description_y_list_filtered  \\\n",
       "0                               [semtech, corporation]   \n",
       "1                         [vanguard, midcap, index, -]   \n",
       "2              [spdr, gold, trust, spdr, gold, shares]   \n",
       "3               [vanguard, total, bond, market, index]   \n",
       "4                         [oakmark, international, cl]   \n",
       "..                                                 ...   \n",
       "511  [franklin, res, inc, com, isin, #, us8, sedol,...   \n",
       "512         [vanguard, total, international, bond, et]   \n",
       "513                    [wisdomtree, japan, hedged, eq]   \n",
       "514                      [templeton, glbal, bond, adv]   \n",
       "515          [t., rowe, price, health, sciences, fund]   \n",
       "\n",
       "                            description_x_list_stemmed  \\\n",
       "0                                      [semtech, corp]   \n",
       "1                          [vanguard, mid, cap, index]   \n",
       "2                     [spdr, gold, trust, gold, share]   \n",
       "3                  [vanguard, total, bond, index, adm]   \n",
       "4                       [oakmark, intern, fund, class]   \n",
       "..                                                 ...   \n",
       "511  [&, inc, com, isin, #, us00206r1023, sedol, #,...   \n",
       "512        [vanguard, total, intern, bond, index, etf]   \n",
       "513                [wisdomtre, japan, hedg, equiti, -]   \n",
       "514    [templeton, global, bond, fund, advisor, class]   \n",
       "515                              [trp, health, scienc]   \n",
       "\n",
       "                            description_y_list_stemmed  \\\n",
       "0                                    [semtech, corpor]   \n",
       "1                         [vanguard, midcap, index, -]   \n",
       "2               [spdr, gold, trust, spdr, gold, share]   \n",
       "3               [vanguard, total, bond, market, index]   \n",
       "4                                [oakmark, intern, cl]   \n",
       "..                                                 ...   \n",
       "511  [franklin, re, inc, com, isin, #, us8, sedol, ...   \n",
       "512                [vanguard, total, intern, bond, et]   \n",
       "513                       [wisdomtre, japan, hedg, eq]   \n",
       "514                      [templeton, glbal, bond, adv]   \n",
       "515             [t., row, price, health, scienc, fund]   \n",
       "\n",
       "                             description_x_list_tagged  \\\n",
       "0                          [(semtech, NN), (corp, NN)]   \n",
       "1    [(vanguard, RB), (mid, JJ), (cap, NN), (index,...   \n",
       "2    [(spdr, NN), (gold, NN), (trust, NN), (gold, N...   \n",
       "3    [(vanguard, NN), (total, JJ), (bond, NN), (ind...   \n",
       "4    [(oakmark, NN), (intern, JJ), (fund, NN), (cla...   \n",
       "..                                                 ...   \n",
       "511  [(&, CC), (inc, NN), (com, NN), (isin, NN), (#...   \n",
       "512  [(vanguard, NN), (total, JJ), (intern, JJ), (b...   \n",
       "513  [(wisdomtre, NN), (japan, NN), (hedg, NN), (eq...   \n",
       "514  [(templeton, NN), (global, JJ), (bond, NN), (f...   \n",
       "515            [(trp, NN), (health, NN), (scienc, NN)]   \n",
       "\n",
       "                             description_y_list_tagged  \\\n",
       "0                        [(semtech, NN), (corpor, NN)]   \n",
       "1    [(vanguard, RB), (midcap, NN), (index, NN), (-...   \n",
       "2    [(spdr, NN), (gold, NN), (trust, NN), (spdr, N...   \n",
       "3    [(vanguard, NN), (total, JJ), (bond, NN), (mar...   \n",
       "4              [(oakmark, NN), (intern, JJ), (cl, NN)]   \n",
       "..                                                 ...   \n",
       "511  [(franklin, NN), (re, NN), (inc, NN), (com, NN...   \n",
       "512  [(vanguard, NN), (total, JJ), (intern, JJ), (b...   \n",
       "513  [(wisdomtre, NN), (japan, NN), (hedg, NN), (eq...   \n",
       "514  [(templeton, NN), (glbal, VBZ), (bond, NN), (a...   \n",
       "515  [(t., NN), (row, NN), (price, NN), (health, NN...   \n",
       "\n",
       "                         description_x_list_lemmatized  \\\n",
       "0                                      [semtech, corp]   \n",
       "1                          [vanguard, mid, cap, index]   \n",
       "2                     [spdr, gold, trust, gold, share]   \n",
       "3                  [vanguard, total, bond, index, adm]   \n",
       "4                       [oakmark, intern, fund, class]   \n",
       "..                                                 ...   \n",
       "511  [&, inc, com, isin, #, us00206r1023, sedol, #,...   \n",
       "512        [vanguard, total, intern, bond, index, etf]   \n",
       "513                [wisdomtre, japan, hedg, equiti, -]   \n",
       "514    [templeton, global, bond, fund, advisor, class]   \n",
       "515                              [trp, health, scienc]   \n",
       "\n",
       "                         description_y_list_lemmatized  description_x_length  \\\n",
       "0                    [first, trust, dj, internet, idx]                    12   \n",
       "1    [schwab, strateg, tr, fundament, intl, larg, c...                    22   \n",
       "2             [vanguard, small-cap, index, fund, inst]                    27   \n",
       "3    [duke, energi, corp, new, com, new, isin, #, u...                    29   \n",
       "4                                       [visa, inc, .]                    34   \n",
       "..                                                 ...                   ...   \n",
       "511                            [walt, disney, co, com]                    46   \n",
       "512                                         [accentur]                    43   \n",
       "513                                      [phillip, 66]                    32   \n",
       "514         [aqr, fd, aqmixmanag, futur, strategi, fd]                    40   \n",
       "515                [abbott, laboratori, div, :, 1.040]                    19   \n",
       "\n",
       "     description_y_length  \n",
       "0                      19  \n",
       "1                      25  \n",
       "2                      32  \n",
       "3                      32  \n",
       "4                      26  \n",
       "..                    ...  \n",
       "511                    45  \n",
       "512                    36  \n",
       "513                    26  \n",
       "514                    24  \n",
       "515                    34  \n",
       "\n",
       "[516 rows x 16 columns]"
      ]
     },
     "execution_count": 52,
     "metadata": {},
     "output_type": "execute_result"
    }
   ],
   "source": [
    "test_df"
   ]
  },
  {
   "cell_type": "code",
   "execution_count": 35,
   "metadata": {},
   "outputs": [],
   "source": [
    "#Import FreqDist to Enable a Frequency Distribution to be Displayed\n",
    "from nltk import FreqDist"
   ]
  },
  {
   "cell_type": "code",
   "execution_count": 36,
   "metadata": {},
   "outputs": [
    {
     "name": "stdout",
     "output_type": "stream",
     "text": [
      "[('vanguard', 450), ('inc', 371), ('fund', 307), ('index', 270), ('com', 238), ('etf', 228), ('bond', 213), ('cl', 211), ('total', 200), ('corp', 143), ('market', 140), ('fd', 125), ('cap', 121), ('pimco', 109), ('ishar', 104), ('&', 98), ('class', 90), ('adm', 83), ('div', 83), ('admir', 83)]\n"
     ]
    }
   ],
   "source": [
    "#Display Most Frequent Words with Word Counts\n",
    "frequency_distribution_X_train_list = []\n",
    "for list in train_df['description_x_list_lemmatized']:\n",
    "    for word in list:\n",
    "        frequency_distribution_X_train_list.append(word)\n",
    "frequency_distribution_X_train_list\n",
    "frequency_distribution_X_train = FreqDist(frequency_distribution_X_train_list).most_common(20)\n",
    "print(frequency_distribution_X_train)"
   ]
  },
  {
   "cell_type": "code",
   "execution_count": 37,
   "metadata": {},
   "outputs": [
    {
     "name": "stdout",
     "output_type": "stream",
     "text": [
      "[('vanguard', 432), ('inc', 364), ('fund', 340), ('index', 266), ('com', 246), ('etf', 226), ('total', 201), ('bond', 188), ('cl', 165), ('corp', 142), ('market', 139), ('cap', 130), ('fd', 122), ('pimco', 117), ('class', 105), ('ishar', 104), ('#', 103), ('share', 97), ('co', 95), ('return', 95)]\n"
     ]
    }
   ],
   "source": [
    "frequency_distribution_Y_train_list = []\n",
    "for list in train_df['description_y_list_lemmatized']:\n",
    "    for word in list:\n",
    "        frequency_distribution_Y_train_list.append(word)\n",
    "frequency_distribution_Y_train_list\n",
    "frequency_distribution_Y_train = FreqDist(frequency_distribution_Y_train_list).most_common(20)\n",
    "print(frequency_distribution_Y_train)"
   ]
  },
  {
   "cell_type": "code",
   "execution_count": 38,
   "metadata": {},
   "outputs": [
    {
     "name": "stdout",
     "output_type": "stream",
     "text": [
      "[('vanguard', 109), ('inc', 82), ('fund', 80), ('index', 72), ('etf', 62), ('com', 55), ('bond', 51), ('total', 47), ('ishar', 45), ('cl', 42), ('fd', 33), ('market', 31), ('corp', 29), ('adm', 29), ('cap', 26), ('pimco', 26), ('share', 25), ('mkt', 25), ('new', 23), ('div', 21)]\n"
     ]
    }
   ],
   "source": [
    "frequency_distribution_X_test_list = []\n",
    "for list in test_df['description_x_list_lemmatized']:\n",
    "    for word in list:\n",
    "        frequency_distribution_X_test_list.append(word)\n",
    "frequency_distribution_X_test_list\n",
    "frequency_distribution_X_test = FreqDist(frequency_distribution_X_test_list).most_common(20)\n",
    "print(frequency_distribution_X_test)"
   ]
  },
  {
   "cell_type": "code",
   "execution_count": 39,
   "metadata": {},
   "outputs": [
    {
     "name": "stdout",
     "output_type": "stream",
     "text": [
      "[('vanguard', 110), ('inc', 92), ('fund', 82), ('index', 76), ('com', 68), ('etf', 66), ('total', 54), ('bond', 45), ('fd', 37), ('market', 36), ('cap', 35), ('cl', 33), ('ishar', 33), ('#', 29), ('pimco', 27), ('return', 27), ('class', 26), ('share', 24), ('corp', 22), ('&', 22)]\n"
     ]
    }
   ],
   "source": [
    "frequency_distribution_Y_test_list = []\n",
    "for list in test_df['description_y_list_lemmatized']:\n",
    "    for word in list:\n",
    "        frequency_distribution_Y_test_list.append(word)\n",
    "frequency_distribution_Y_test_list\n",
    "frequency_distribution_Y_test = FreqDist(frequency_distribution_Y_test_list).most_common(20)\n",
    "print(frequency_distribution_Y_test)"
   ]
  },
  {
   "cell_type": "code",
   "execution_count": 64,
   "metadata": {},
   "outputs": [],
   "source": [
    "#Import Library to TFID Vectorize Text\n",
    "from sklearn.feature_extraction.text import CountVectorizer\n",
    "from sklearn.feature_extraction.text import TfidfTransformer\n",
    "from sklearn.feature_extraction.text import TfidfVectorizer\n",
    "from sklearn.pipeline import Pipeline"
   ]
  },
  {
   "cell_type": "code",
   "execution_count": 65,
   "metadata": {},
   "outputs": [],
   "source": [
    "tf_idf = Pipeline([('cv',CountVectorizer()), ('tfidf_transformer',TfidfTransformer(smooth_idf=True,use_idf=True))])"
   ]
  },
  {
   "cell_type": "code",
   "execution_count": 72,
   "metadata": {},
   "outputs": [
    {
     "data": {
      "text/plain": [
       "<1x2 sparse matrix of type '<class 'numpy.float64'>'\n",
       "\twith 2 stored elements in Compressed Sparse Row format>"
      ]
     },
     "execution_count": 72,
     "metadata": {},
     "output_type": "execute_result"
    }
   ],
   "source": [
    "#Create Pipeline to Transform Lemmatized Words into TF_IDF Vectors\n",
    "tf_idf_vector_X_train  = tf_idf.fit_transform([\"train_df['description_x_list_lemmatized']\"])\n",
    "tf_idf_vector_X_train"
   ]
  },
  {
   "cell_type": "code",
   "execution_count": 74,
   "metadata": {},
   "outputs": [
    {
     "data": {
      "text/plain": [
       "<1x2 sparse matrix of type '<class 'numpy.float64'>'\n",
       "\twith 2 stored elements in Compressed Sparse Row format>"
      ]
     },
     "execution_count": 74,
     "metadata": {},
     "output_type": "execute_result"
    }
   ],
   "source": [
    "tf_idf_vector_Y_train  = tf_idf.fit_transform([\"train_df['description_y_list_lemmatized']\"])\n",
    "tf_idf_vector_Y_train"
   ]
  },
  {
   "cell_type": "code",
   "execution_count": 75,
   "metadata": {},
   "outputs": [
    {
     "data": {
      "text/plain": [
       "<1x2 sparse matrix of type '<class 'numpy.float64'>'\n",
       "\twith 2 stored elements in Compressed Sparse Row format>"
      ]
     },
     "execution_count": 75,
     "metadata": {},
     "output_type": "execute_result"
    }
   ],
   "source": [
    "tf_idf_vector_X_test  = tf_idf.fit_transform([\"test_df['description_x_list_lemmatized']\"])\n",
    "tf_idf_vector_X_test"
   ]
  },
  {
   "cell_type": "code",
   "execution_count": 76,
   "metadata": {},
   "outputs": [
    {
     "data": {
      "text/plain": [
       "<1x2 sparse matrix of type '<class 'numpy.float64'>'\n",
       "\twith 2 stored elements in Compressed Sparse Row format>"
      ]
     },
     "execution_count": 76,
     "metadata": {},
     "output_type": "execute_result"
    }
   ],
   "source": [
    "tf_idf_vector_Y_test  = tf_idf.fit_transform([\"test_df['description_y_list_lemmatized']\"])\n",
    "tf_idf_vector_Y_test"
   ]
  },
  {
   "cell_type": "code",
   "execution_count": 73,
   "metadata": {},
   "outputs": [
    {
     "data": {
      "text/plain": [
       "<1x2 sparse matrix of type '<class 'numpy.float64'>'\n",
       "\twith 2 stored elements in Compressed Sparse Row format>"
      ]
     },
     "execution_count": 73,
     "metadata": {},
     "output_type": "execute_result"
    }
   ],
   "source": [
    "#Credit to https://www.bogotobogo.com/python/NLTK/tf_idf_with_scikit-learn_NLTK.php\n",
    "tfidf_X_train = TfidfVectorizer()\n",
    "tfs_X_train = tfidf_X_train.fit_transform([\"train_df['description_x_list_lemmatized']\"])\n",
    "tfs_X_train"
   ]
  },
  {
   "cell_type": "code",
   "execution_count": 81,
   "metadata": {},
   "outputs": [
    {
     "ename": "ValueError",
     "evalue": "setting an array element with a sequence.",
     "output_type": "error",
     "traceback": [
      "\u001b[1;31m---------------------------------------------------------------------------\u001b[0m",
      "\u001b[1;31mTypeError\u001b[0m                                 Traceback (most recent call last)",
      "\u001b[1;31mTypeError\u001b[0m: float() argument must be a string or a number, not 'list'",
      "\nThe above exception was the direct cause of the following exception:\n",
      "\u001b[1;31mValueError\u001b[0m                                Traceback (most recent call last)",
      "\u001b[1;32m<ipython-input-81-95afa5b66f3a>\u001b[0m in \u001b[0;36m<module>\u001b[1;34m\u001b[0m\n\u001b[0;32m      8\u001b[0m \u001b[1;31m# training a DescisionTreeClassifier\u001b[0m\u001b[1;33m\u001b[0m\u001b[1;33m\u001b[0m\u001b[1;33m\u001b[0m\u001b[0m\n\u001b[0;32m      9\u001b[0m \u001b[1;32mfrom\u001b[0m \u001b[0msklearn\u001b[0m\u001b[1;33m.\u001b[0m\u001b[0mtree\u001b[0m \u001b[1;32mimport\u001b[0m \u001b[0mDecisionTreeClassifier\u001b[0m\u001b[1;33m\u001b[0m\u001b[1;33m\u001b[0m\u001b[0m\n\u001b[1;32m---> 10\u001b[1;33m \u001b[0mdtree_model_X\u001b[0m \u001b[1;33m=\u001b[0m \u001b[0mDecisionTreeClassifier\u001b[0m\u001b[1;33m(\u001b[0m\u001b[1;33m)\u001b[0m\u001b[1;33m.\u001b[0m\u001b[0mfit\u001b[0m\u001b[1;33m(\u001b[0m\u001b[0mtrain_df\u001b[0m\u001b[1;33m[\u001b[0m\u001b[1;34m'description_x_list_lemmatized'\u001b[0m\u001b[1;33m]\u001b[0m\u001b[1;33m.\u001b[0m\u001b[0mtolist\u001b[0m\u001b[1;33m(\u001b[0m\u001b[1;33m)\u001b[0m\u001b[1;33m,\u001b[0m \u001b[0mtrain_df\u001b[0m\u001b[1;33m[\u001b[0m\u001b[1;34m'ticker_x'\u001b[0m\u001b[1;33m]\u001b[0m\u001b[1;33m)\u001b[0m\u001b[1;33m\u001b[0m\u001b[1;33m\u001b[0m\u001b[0m\n\u001b[0m\u001b[0;32m     11\u001b[0m \u001b[0mdtree_model_Y\u001b[0m \u001b[1;33m=\u001b[0m \u001b[0mDecisionTreeClassifier\u001b[0m\u001b[1;33m(\u001b[0m\u001b[1;33m)\u001b[0m\u001b[1;33m.\u001b[0m\u001b[0mfit\u001b[0m\u001b[1;33m(\u001b[0m\u001b[0mtrain_df\u001b[0m\u001b[1;33m[\u001b[0m\u001b[1;34m'description_y_list_lemmatized'\u001b[0m\u001b[1;33m]\u001b[0m\u001b[1;33m.\u001b[0m\u001b[0mtolist\u001b[0m\u001b[1;33m(\u001b[0m\u001b[1;33m)\u001b[0m\u001b[1;33m,\u001b[0m \u001b[0mtrain_df\u001b[0m\u001b[1;33m[\u001b[0m\u001b[1;34m'ticker_y'\u001b[0m\u001b[1;33m]\u001b[0m\u001b[1;33m)\u001b[0m\u001b[1;33m\u001b[0m\u001b[1;33m\u001b[0m\u001b[0m\n\u001b[0;32m     12\u001b[0m \u001b[0mdtree_predictions_X\u001b[0m \u001b[1;33m=\u001b[0m \u001b[0mdtree_model_X\u001b[0m\u001b[1;33m.\u001b[0m\u001b[0mpredict\u001b[0m\u001b[1;33m(\u001b[0m\u001b[0mtest_df\u001b[0m\u001b[1;33m[\u001b[0m\u001b[1;34m'description_x_list_lemmatized'\u001b[0m\u001b[1;33m]\u001b[0m\u001b[1;33m)\u001b[0m\u001b[1;33m\u001b[0m\u001b[1;33m\u001b[0m\u001b[0m\n",
      "\u001b[1;32m~\\Anaconda3\\lib\\site-packages\\sklearn\\tree\\_classes.py\u001b[0m in \u001b[0;36mfit\u001b[1;34m(self, X, y, sample_weight, check_input, X_idx_sorted)\u001b[0m\n\u001b[0;32m    940\u001b[0m             \u001b[0msample_weight\u001b[0m\u001b[1;33m=\u001b[0m\u001b[0msample_weight\u001b[0m\u001b[1;33m,\u001b[0m\u001b[1;33m\u001b[0m\u001b[1;33m\u001b[0m\u001b[0m\n\u001b[0;32m    941\u001b[0m             \u001b[0mcheck_input\u001b[0m\u001b[1;33m=\u001b[0m\u001b[0mcheck_input\u001b[0m\u001b[1;33m,\u001b[0m\u001b[1;33m\u001b[0m\u001b[1;33m\u001b[0m\u001b[0m\n\u001b[1;32m--> 942\u001b[1;33m             \u001b[0mX_idx_sorted\u001b[0m\u001b[1;33m=\u001b[0m\u001b[0mX_idx_sorted\u001b[0m\u001b[1;33m,\u001b[0m\u001b[1;33m\u001b[0m\u001b[1;33m\u001b[0m\u001b[0m\n\u001b[0m\u001b[0;32m    943\u001b[0m         )\n\u001b[0;32m    944\u001b[0m         \u001b[1;32mreturn\u001b[0m \u001b[0mself\u001b[0m\u001b[1;33m\u001b[0m\u001b[1;33m\u001b[0m\u001b[0m\n",
      "\u001b[1;32m~\\Anaconda3\\lib\\site-packages\\sklearn\\tree\\_classes.py\u001b[0m in \u001b[0;36mfit\u001b[1;34m(self, X, y, sample_weight, check_input, X_idx_sorted)\u001b[0m\n\u001b[0;32m    164\u001b[0m             \u001b[0mcheck_y_params\u001b[0m \u001b[1;33m=\u001b[0m \u001b[0mdict\u001b[0m\u001b[1;33m(\u001b[0m\u001b[0mensure_2d\u001b[0m\u001b[1;33m=\u001b[0m\u001b[1;32mFalse\u001b[0m\u001b[1;33m,\u001b[0m \u001b[0mdtype\u001b[0m\u001b[1;33m=\u001b[0m\u001b[1;32mNone\u001b[0m\u001b[1;33m)\u001b[0m\u001b[1;33m\u001b[0m\u001b[1;33m\u001b[0m\u001b[0m\n\u001b[0;32m    165\u001b[0m             X, y = self._validate_data(\n\u001b[1;32m--> 166\u001b[1;33m                 \u001b[0mX\u001b[0m\u001b[1;33m,\u001b[0m \u001b[0my\u001b[0m\u001b[1;33m,\u001b[0m \u001b[0mvalidate_separately\u001b[0m\u001b[1;33m=\u001b[0m\u001b[1;33m(\u001b[0m\u001b[0mcheck_X_params\u001b[0m\u001b[1;33m,\u001b[0m \u001b[0mcheck_y_params\u001b[0m\u001b[1;33m)\u001b[0m\u001b[1;33m\u001b[0m\u001b[1;33m\u001b[0m\u001b[0m\n\u001b[0m\u001b[0;32m    167\u001b[0m             )\n\u001b[0;32m    168\u001b[0m             \u001b[1;32mif\u001b[0m \u001b[0missparse\u001b[0m\u001b[1;33m(\u001b[0m\u001b[0mX\u001b[0m\u001b[1;33m)\u001b[0m\u001b[1;33m:\u001b[0m\u001b[1;33m\u001b[0m\u001b[1;33m\u001b[0m\u001b[0m\n",
      "\u001b[1;32m~\\Anaconda3\\lib\\site-packages\\sklearn\\base.py\u001b[0m in \u001b[0;36m_validate_data\u001b[1;34m(self, X, y, reset, validate_separately, **check_params)\u001b[0m\n\u001b[0;32m    576\u001b[0m                 \u001b[1;31m# :(\u001b[0m\u001b[1;33m\u001b[0m\u001b[1;33m\u001b[0m\u001b[1;33m\u001b[0m\u001b[0m\n\u001b[0;32m    577\u001b[0m                 \u001b[0mcheck_X_params\u001b[0m\u001b[1;33m,\u001b[0m \u001b[0mcheck_y_params\u001b[0m \u001b[1;33m=\u001b[0m \u001b[0mvalidate_separately\u001b[0m\u001b[1;33m\u001b[0m\u001b[1;33m\u001b[0m\u001b[0m\n\u001b[1;32m--> 578\u001b[1;33m                 \u001b[0mX\u001b[0m \u001b[1;33m=\u001b[0m \u001b[0mcheck_array\u001b[0m\u001b[1;33m(\u001b[0m\u001b[0mX\u001b[0m\u001b[1;33m,\u001b[0m \u001b[1;33m**\u001b[0m\u001b[0mcheck_X_params\u001b[0m\u001b[1;33m)\u001b[0m\u001b[1;33m\u001b[0m\u001b[1;33m\u001b[0m\u001b[0m\n\u001b[0m\u001b[0;32m    579\u001b[0m                 \u001b[0my\u001b[0m \u001b[1;33m=\u001b[0m \u001b[0mcheck_array\u001b[0m\u001b[1;33m(\u001b[0m\u001b[0my\u001b[0m\u001b[1;33m,\u001b[0m \u001b[1;33m**\u001b[0m\u001b[0mcheck_y_params\u001b[0m\u001b[1;33m)\u001b[0m\u001b[1;33m\u001b[0m\u001b[1;33m\u001b[0m\u001b[0m\n\u001b[0;32m    580\u001b[0m             \u001b[1;32melse\u001b[0m\u001b[1;33m:\u001b[0m\u001b[1;33m\u001b[0m\u001b[1;33m\u001b[0m\u001b[0m\n",
      "\u001b[1;32m~\\Anaconda3\\lib\\site-packages\\sklearn\\utils\\validation.py\u001b[0m in \u001b[0;36mcheck_array\u001b[1;34m(array, accept_sparse, accept_large_sparse, dtype, order, copy, force_all_finite, ensure_2d, allow_nd, ensure_min_samples, ensure_min_features, estimator)\u001b[0m\n\u001b[0;32m    744\u001b[0m                     \u001b[0marray\u001b[0m \u001b[1;33m=\u001b[0m \u001b[0marray\u001b[0m\u001b[1;33m.\u001b[0m\u001b[0mastype\u001b[0m\u001b[1;33m(\u001b[0m\u001b[0mdtype\u001b[0m\u001b[1;33m,\u001b[0m \u001b[0mcasting\u001b[0m\u001b[1;33m=\u001b[0m\u001b[1;34m\"unsafe\"\u001b[0m\u001b[1;33m,\u001b[0m \u001b[0mcopy\u001b[0m\u001b[1;33m=\u001b[0m\u001b[1;32mFalse\u001b[0m\u001b[1;33m)\u001b[0m\u001b[1;33m\u001b[0m\u001b[1;33m\u001b[0m\u001b[0m\n\u001b[0;32m    745\u001b[0m                 \u001b[1;32melse\u001b[0m\u001b[1;33m:\u001b[0m\u001b[1;33m\u001b[0m\u001b[1;33m\u001b[0m\u001b[0m\n\u001b[1;32m--> 746\u001b[1;33m                     \u001b[0marray\u001b[0m \u001b[1;33m=\u001b[0m \u001b[0mnp\u001b[0m\u001b[1;33m.\u001b[0m\u001b[0masarray\u001b[0m\u001b[1;33m(\u001b[0m\u001b[0marray\u001b[0m\u001b[1;33m,\u001b[0m \u001b[0morder\u001b[0m\u001b[1;33m=\u001b[0m\u001b[0morder\u001b[0m\u001b[1;33m,\u001b[0m \u001b[0mdtype\u001b[0m\u001b[1;33m=\u001b[0m\u001b[0mdtype\u001b[0m\u001b[1;33m)\u001b[0m\u001b[1;33m\u001b[0m\u001b[1;33m\u001b[0m\u001b[0m\n\u001b[0m\u001b[0;32m    747\u001b[0m             \u001b[1;32mexcept\u001b[0m \u001b[0mComplexWarning\u001b[0m \u001b[1;32mas\u001b[0m \u001b[0mcomplex_warning\u001b[0m\u001b[1;33m:\u001b[0m\u001b[1;33m\u001b[0m\u001b[1;33m\u001b[0m\u001b[0m\n\u001b[0;32m    748\u001b[0m                 raise ValueError(\n",
      "\u001b[1;32m~\\Anaconda3\\lib\\site-packages\\numpy\\core\\_asarray.py\u001b[0m in \u001b[0;36masarray\u001b[1;34m(a, dtype, order)\u001b[0m\n\u001b[0;32m     81\u001b[0m \u001b[1;33m\u001b[0m\u001b[0m\n\u001b[0;32m     82\u001b[0m     \"\"\"\n\u001b[1;32m---> 83\u001b[1;33m     \u001b[1;32mreturn\u001b[0m \u001b[0marray\u001b[0m\u001b[1;33m(\u001b[0m\u001b[0ma\u001b[0m\u001b[1;33m,\u001b[0m \u001b[0mdtype\u001b[0m\u001b[1;33m,\u001b[0m \u001b[0mcopy\u001b[0m\u001b[1;33m=\u001b[0m\u001b[1;32mFalse\u001b[0m\u001b[1;33m,\u001b[0m \u001b[0morder\u001b[0m\u001b[1;33m=\u001b[0m\u001b[0morder\u001b[0m\u001b[1;33m)\u001b[0m\u001b[1;33m\u001b[0m\u001b[1;33m\u001b[0m\u001b[0m\n\u001b[0m\u001b[0;32m     84\u001b[0m \u001b[1;33m\u001b[0m\u001b[0m\n\u001b[0;32m     85\u001b[0m \u001b[1;33m\u001b[0m\u001b[0m\n",
      "\u001b[1;31mValueError\u001b[0m: setting an array element with a sequence."
     ]
    }
   ],
   "source": [
    "#Create & Test Machine Learning Models to Generate Predictions About the Ticker Values & Same Security\n",
    "# importing necessary libraries\n",
    "#Credit to https://www.geeksforgeeks.org/multiclass-classification-using-scikit-learn/ for the Code\n",
    "from sklearn import datasets\n",
    "from sklearn.metrics import confusion_matrix\n",
    "from sklearn.model_selection import train_test_split\n",
    "\n",
    "# training a DescisionTreeClassifier\n",
    "from sklearn.tree import DecisionTreeClassifier\n",
    "dtree_model_X = DecisionTreeClassifier().fit(train_df['description_x_list_lemmatized'].tolist(), train_df['ticker_x'])\n",
    "dtree_model_Y = DecisionTreeClassifier().fit(train_df['description_y_list_lemmatized'].tolist(), train_df['ticker_y'])\n",
    "dtree_predictions_X = dtree_model_X.predict(test_df['description_x_list_lemmatized'])\n",
    "dtree_predictions_Y = dtree_model_X.predict(test_df['description_y_list_lemmatized'])\n",
    "  \n",
    "# creating a confusion matrix\n",
    "cm_X = confusion_matrix(test_df['description_x_list_lemmatized'], dtree_predictions_X)\n",
    "cm_Y = confusion_matrix(test_df['description_y_list_lemmatized'], dtree_predictions_Y)"
   ]
  },
  {
   "cell_type": "code",
   "execution_count": null,
   "metadata": {},
   "outputs": [],
   "source": []
  }
 ],
 "metadata": {
  "kernelspec": {
   "display_name": "Python 3",
   "language": "python",
   "name": "python3"
  },
  "language_info": {
   "codemirror_mode": {
    "name": "ipython",
    "version": 3
   },
   "file_extension": ".py",
   "mimetype": "text/x-python",
   "name": "python",
   "nbconvert_exporter": "python",
   "pygments_lexer": "ipython3",
   "version": "3.7.4"
  }
 },
 "nbformat": 4,
 "nbformat_minor": 4
}
